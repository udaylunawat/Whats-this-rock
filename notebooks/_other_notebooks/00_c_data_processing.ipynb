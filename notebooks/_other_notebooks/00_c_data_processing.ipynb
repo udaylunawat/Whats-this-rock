{
 "cells": [
  {
   "cell_type": "raw",
   "id": "795d0398-dc0a-40d4-92c0-97336cee8144",
   "metadata": {},
   "source": [
    "---\n",
    "skip_exec: true\n",
    "skip_showdoc: true\n",
    "---"
   ]
  },
  {
   "cell_type": "code",
   "execution_count": null,
   "id": "27163d1f-f74e-47a1-a0b0-8cf790f01842",
   "metadata": {},
   "outputs": [],
   "source": [
    "#| default_exp data.preprocess"
   ]
  },
  {
   "cell_type": "markdown",
   "id": "8f6c8428-d6e4-4741-b254-4902cbeef841",
   "metadata": {},
   "source": [
    "# Data preprocessing\n",
    "> Rename and restructure directories, and split data into train, val and test"
   ]
  },
  {
   "cell_type": "code",
   "execution_count": null,
   "id": "2fda57b9-08d6-434c-9e7a-c5da1962b8fa",
   "metadata": {},
   "outputs": [],
   "source": [
    "#| export\n",
    "\n",
    "# https://stackoverflow.com/a/64006242/9292995\n",
    "import os\n",
    "import subprocess\n",
    "import logging\n",
    "\n",
    "\n",
    "from src.data.utils import (\n",
    "    get_df,\n",
    "    get_value_counts,\n",
    "    move_and_rename,\n",
    "    remove_corrupted_images,\n",
    "    remove_unsupported_images,\n",
    "    move_to_processed,\n",
    "    sampling\n",
    ")\n",
    "\n",
    "\n",
    "def process_data(cfg):\n",
    "    \"\"\"Download dataset, removes unsupported and corrupted images, and splits data into train, val and test.\n",
    "\n",
    "    Parameters\n",
    "    ----------\n",
    "    cfg : cfg (omegaconf.DictConfig):\n",
    "        Hydra Configuration\n",
    "    \"\"\"\n",
    "    move_to_processed()\n",
    "\n",
    "    print(\"\\n\\nFiles other than jpg and png.\\n\")\n",
    "    result = subprocess.run(\n",
    "        [\"ls\", \"data/2_processed\", \"-I\", \"*.jpg\", \"-I\", \"*.png\", \"-R\"],\n",
    "        stdout=subprocess.PIPE,\n",
    "    ).stdout.decode(\"utf-8\")\n",
    "    print(result)\n",
    "\n",
    "    print(\"\\nFile types before cleaning:\")\n",
    "    get_value_counts(\"data/2_processed\")\n",
    "\n",
    "    remove_unsupported_images(\"data/2_processed\")\n",
    "    remove_corrupted_images(\"data/2_processed\")\n",
    "\n",
    "    print(\"\\nFile types after cleaning:\")\n",
    "    get_value_counts(\"data/2_processed\")\n",
    "\n",
    "    print(\"\\nCounts of classes:\\n\")\n",
    "    print(get_df()[\"class\"].value_counts())\n",
    "    sampling(cfg)\n"
   ]
  },
  {
   "cell_type": "code",
   "execution_count": null,
   "id": "edac392a-1d3b-4b04-a774-76c6f6286410",
   "metadata": {},
   "outputs": [],
   "source": [
    "#| hide\n",
    "import nbdev; nbdev.nbdev_export()"
   ]
  }
 ],
 "metadata": {
  "kernelspec": {
   "display_name": "Python 3 (ipykernel)",
   "language": "python",
   "name": "python3"
  }
 },
 "nbformat": 4,
 "nbformat_minor": 5
}
