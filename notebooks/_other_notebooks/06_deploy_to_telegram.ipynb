{
 "cells": [
  {
   "cell_type": "raw",
   "id": "73667223-8026-446b-9ff4-7b3c2135fd87",
   "metadata": {},
   "source": [
    "---\n",
    "skip_exec: true\n",
    "skip_showdoc: true\n",
    "---"
   ]
  },
  {
   "cell_type": "markdown",
   "id": "b75240ff-5078-4b29-8a2f-f497ccfd7b69",
   "metadata": {},
   "source": [
    "# Deploy Telegram Bot\n",
    "Uploading secrets with telegram key"
   ]
  },
  {
   "cell_type": "code",
   "execution_count": null,
   "id": "d949e887-0079-40c8-adeb-273e22c7d806",
   "metadata": {},
   "outputs": [
    {
     "name": "stdout",
     "output_type": "stream",
     "text": [
      "Enter Telegram API Key: ··········\n"
     ]
    }
   ],
   "source": [
    "import os\n",
    "\n",
    "from getpass import getpass\n",
    "telegram_token = getpass('Enter Telegram API Key: ')\n",
    "os.environ['TOKEN'] = telegram_token"
   ]
  },
  {
   "cell_type": "code",
   "execution_count": null,
   "id": "def1830b-d2dc-4b35-a9ec-b3ebba1a01b0",
   "metadata": {},
   "outputs": [],
   "source": [
    "%%bash\n",
    "pip install -r requirements.txt --quiet"
   ]
  },
  {
   "cell_type": "code",
   "execution_count": null,
   "id": "96642797-c991-4acc-acc0-4a366fc06d91",
   "metadata": {},
   "outputs": [],
   "source": [
    "!python src/bot.py"
   ]
  },
  {
   "cell_type": "code",
   "execution_count": null,
   "id": "27a11dab-52e0-47a3-a146-827d525518d4",
   "metadata": {},
   "outputs": [],
   "source": []
  },
  {
   "cell_type": "code",
   "execution_count": null,
   "id": "4ae54eaa-a2d5-4bcf-b73b-232dd1dfb379",
   "metadata": {},
   "outputs": [],
   "source": []
  }
 ],
 "metadata": {
  "kernelspec": {
   "display_name": "Python 3.10.6 ('rocks')",
   "language": "python",
   "name": "python3"
  }
 },
 "nbformat": 4,
 "nbformat_minor": 5
}
