{
 "cells": [
  {
   "cell_type": "code",
   "execution_count": null,
   "metadata": {},
   "outputs": [],
   "source": [
    "# | hide\n",
    "from rocks_classifier.data.download import *"
   ]
  },
  {
   "cell_type": "markdown",
   "metadata": {},
   "source": [
    "<p >\n",
    "    This project deploys a telegram bot that classifies rock images into 1 of 7 types.</br>\n",
    "    <img src=\"https://i.imgur.com/cDrrfqF.jpg\" alt=\"What's my name?\" width=20% align=\"right\"/>\n",
    "</p>\n",
    "\n",
    "[![CI](https://github.com/udaylunawat/Whats-this-rock/actions/workflows/test.yaml/badge.svg)](https://github.com/udaylunawat/Whats-this-rock/actions/workflows/test.yaml)\n",
    "![GitHub pages](https://img.shields.io/github/workflow/status/udaylunawat/Whats-this-rock/Deploy%20to%20GitHub%20Pages/main?label=GitHubPages)\n",
    "![GitHub issues](https://img.shields.io/github/issues-raw/udaylunawat/Whats-this-rock)\n",
    "<!-- [![GitHub Super-Linter](https://github.com/nvuillam/npm-groovy-lint/workflows/Lint%20Code%20Base/badge.svg)](https://github.com/marketplace/actions/super-linter) -->\n",
    "\n",
    "![code-size](https://img.shields.io/github/languages/code-size/udaylunawat/Whats-this-rock)\n",
    "![repo-size](https://img.shields.io/github/repo-size/udaylunawat/Whats-this-rock)\n",
    "![top-language](https://img.shields.io/github/languages/top/udaylunawat/Whats-this-rock)\n",
    "\n",
    "![Python](https://img.shields.io/badge/python-v3.8.0+-success.svg)\n",
    "![Tensorflow](https://img.shields.io/badge/tensorflow-v2.9.0+-success.svg)\n",
    "\n",
    "[![contributions welcome](https://img.shields.io/badge/contributions-welcome-brightgreen.svg?style=flat)](https://github.com/dwyl/esta/issues)\n",
    "[![HitCount](https://hits.dwyl.com/udaylunawat/Whats-this-rock.svg?style=flat)](http://hits.dwyl.com/udaylunawat/Whats-this-rock)\n",
    "\n",
    "![](https://img.shields.io/twitter/follow/udaylunawat?style=social)\n",
    "\n",
    "\n"
   ]
  },
  {
   "cell_type": "markdown",
   "metadata": {},
   "source": [
    "# Whats-this-rock\n",
    "\n",
    "> Telegram Rock Classification Bot!"
   ]
  },
  {
   "cell_type": "markdown",
   "metadata": {},
   "source": [
    "This package uses [tensorflow](https://github.com/tensorflow/tensorflow) to\n",
    "accelerate deep learning experimentation. \n",
    "\n",
    "\n",
    "MLOps workflow like\n",
    "\n",
    "- Experiment Tracking\n",
    "- Model Management\n",
    "- Hyperparameter Tuning \n",
    "\n",
    "was all done using [Weights & Biases](https://wandb.ai)\n",
    "\n",
    "\n",
    "Additionally, [nbdev](https://github.com/fastai/nbdev) was used to\n",
    "\n",
    "- develop the package\n",
    "- produce documentation based on a series of notebooks.\n",
    "- CI\n",
    "- publishing to [PyPi](https://pypi.org/project/rocks-classifier/)"
   ]
  },
  {
   "cell_type": "markdown",
   "metadata": {},
   "source": [
    "## Inspiration\n",
    "\n",
    "> [The common complaint that you need massive amounts of data to do deep learning\n",
    " can be a very long way from the truth! ](https://youtu.be/J6XcP4JOHmk?t=2029)\n",
    "    \n",
    "> You very often don’t need much data at all, a lot of people are looking for ways to share data and aggregate data, but that’s unnecessary.They assume they need more data than they do, cause they’re not familiar with the basics of transfer learning which is this critical technique for needing orders of magnitudes less data.\n",
    "\n",
    "  > [Jeremy Howards](https://en.wikipedia.org/wiki/Jeremy_Howard_(entrepreneur))\n",
    "                                                                                                    "
   ]
  },
  {
   "cell_type": "markdown",
   "metadata": {},
   "source": [
    "## Documentation\n",
    "\n",
    "Documentation for the project has been created using [`nbdev`](https://nbdev.fast.ai/getting_started.html), and is available at [udaylunawat.github.io/Whats-this-rock](https://udaylunawat.github.io/Whats-this-rock/).\n",
    "\n",
    "[`nbdev`](https://nbdev.fast.ai/getting_started.html) is a notebook-driven development platform. Simply write notebooks with lightweight markup and get high-quality documentation, tests, continuous integration, and packaging for free!\n",
    "\n",
    "Once I discovered nbdev, I couldn't help myself but redo the whole project from scratch.\n",
    "\n",
    "It's just makes me 10x more productive and makes the whole process streamlined and more enjoyable."
   ]
  },
  {
   "cell_type": "markdown",
   "metadata": {},
   "source": [
    "## Installation\n",
    "\n",
    "You can directly install using pip\n",
    "```bash\n",
    "pip install rocks_classifier\n",
    "```\n",
    "\n",
    "Install - Directly from Github (latest beta version)\n",
    "\n",
    "```bash\n",
    "pip install git+https://github.com/udaylunawat/Whats-this-rock.git\n",
    "```"
   ]
  },
  {
   "cell_type": "markdown",
   "metadata": {},
   "source": [
    "### Download and process data\n",
    "\n",
    "```bash\n",
    "%%bash\n",
    "rocks_process_data  --config-dir configs \\\n",
    "                    remove_bad= True \\\n",
    "                    remove_misclassified= True \\\n",
    "                    remove_duplicates= True \\\n",
    "                    remove_corrupted= True \\\n",
    "                    remove_unsupported= True \\\n",
    "                    sampling=None \\\n",
    "                    train_split=0.8 \\\n",
    "```                   "
   ]
  },
  {
   "cell_type": "markdown",
   "metadata": {},
   "source": [
    "### Train Model\n",
    "\n",
    "Train model using default parameters in `configs/config.yaml`.\n",
    "\n",
    "```bash\n",
    "rocks_train_model   --config-dir configs\n",
    "```\n",
    "\n",
    "You can try different models and parameters by editing `configs/config.yaml`, \n",
    "or you can override it by passing arguments like this:-\n",
    "\n",
    "By using Hydra it's now much more easier to override parameters like this:-\n",
    "\n",
    "```bash\n",
    "rocks_train_model   --config-dir configs \\\n",
    "                    wandb.project=Whats-this-rock \\\n",
    "                    wandb.mode=offline \\\n",
    "                    wandb.use=False \\\n",
    "                    dataset_id=[1,2] \\\n",
    "                    epochs=30 \\\n",
    "                    lr=0.005 \\\n",
    "                    augmentation=None \\\n",
    "                    monitor=val_loss \\\n",
    "                    loss=categorical_crossentropy \\\n",
    "                    backbone=resnet \\\n",
    "                    lr_schedule=cosine_decay_restarts \\\n",
    "                    lr_decay_steps=300 \\\n",
    "                    trainable=False \\\n",
    "```\n",
    "\n",
    "<p align=\"left\">\n",
    "  <a href='https://wandb.ai/udaylunawat/Whats-this-rock/runs/t3r63wnf?workspace=user-udaylunawat'>\n",
    "    <img src=\"https://i.imgur.com/SqYKjuB.png\" alt=\"result\" width=100%/>\n",
    "  </a>\n",
    "</p>"
   ]
  },
  {
   "cell_type": "markdown",
   "metadata": {},
   "source": [
    "### Wandb Sweeps (Hyperparameter Tuning)\n",
    "\n",
    "Edit `configs/sweep.yaml`\n",
    "\n",
    "```bash\n",
    "wandb sweep \\\n",
    "--project Whats-this-rock \\\n",
    "--entity udaylunawat \\\n",
    "configs/sweep.yaml\n",
    "```\n",
    "\n",
    "This will return a command with $sweepid, run it to start running sweeps!\n",
    "\n",
    "```bash\n",
    "wandb agent udaylunawat/Whats-this-rock/$sweepid\n",
    "```\n"
   ]
  },
  {
   "cell_type": "markdown",
   "metadata": {},
   "source": [
    "### Telegram Bot\n",
    "\n",
    "You can try the bot [here](https://t.me/test7385_bot) on Telegram.\n",
    "\n",
    "> Type `/help` to get instructions in chat."
   ]
  },
  {
   "cell_type": "markdown",
   "metadata": {},
   "source": [
    "Or deploy it yourself\n",
    "\n",
    "```bash\n",
    "rocks_deploy_bot\n",
    "```"
   ]
  },
  {
   "cell_type": "markdown",
   "metadata": {},
   "source": [
    "## Demo\n",
    "\n",
    "|  Colab| GitHub | Download |\n",
    "|---|---|---|\n",
    "| ![ alt colab](https://www.tensorflow.org/images/colab_logo_32px.png)[Run in Colab](https://colab.research.google.com/drive/1N1CIqdOKlJSJla5PU53Yn9KWSao47eMv?usp=sharing) | ![ alt Source](https://www.tensorflow.org/images/GitHub-Mark-32px.png)[View Source on GitHub](https://github.com/udaylunawat/Whats-this-rock) | ![ alt noteboook](https://www.tensorflow.org/images/download_logo_32px.png)[Download Notebook](https://github.com/udaylunawat/Whats-this-rock/blob/main/notebooks/03_training.ipynb) |"
   ]
  },
  {
   "cell_type": "markdown",
   "metadata": {},
   "source": [
    "## Features\n",
    "& Things I've Experimented with\n"
   ]
  },
  {
   "cell_type": "markdown",
   "metadata": {},
   "source": [
    "[cosinedecay]: https://www.tensorflow.org/api\\_docs/python/tf/keras/optimizers/schedules/CosineDecay\n",
    "[cosinedecayrestarts]: https://www.tensorflow.org/api\\_docs/python/tf/keras/optimizers/schedules/CosineDecayRestarts\n",
    "[exponentialdecay]: https://www.tensorflow.org/api\\_docs/python/tf/keras/optimizers/schedules/ExponentialDecay\n",
    "[dataset1]: https://www.kaggle.com/datasets/mahmoudalforawi/igneous-metamorphic-sedimentary-rocks-and-minerals\n",
    "[dataset2]: https://www.kaggle.com/datasets/salmaneunus/rock-classification\n",
    "\n",
    "\n",
    "| `Feature`   |              | `Feature`              |                           |\n",
    "| ----------- | ------------ | ---------------------- | ------------------------- |\n",
    "| `Wandb` | \\- Experiment Tracking<br>\\- System Tracking<br>\\- Model Tracking<br>\\- Hyperparameter Tuning | `Datasets` | \\- [Dataset 1][dataset1]<br>\\- [Dataset 2][dataset2]   |\n",
    "| `Augmentation`  | \\- Keras-CV<br>\\- MixUp<br>\\- CutMix<br>\\- Normal | `Models` | \\- ConvNextTiny<br>\\- Efficientnet<br>\\- Resnet101<br>\\- MobileNetv1<br>\\- MobileNetv2<br>\\- Xception |\n",
    "| `Optimisers` | \\- Adam<br>\\- Adamax<br>\\- SGD<br>\\- RMSProp  | `LR Scheduler` | \\- [CosineDecay][cosinedecay]<br>\\- [ExponentialDecay][exponentialdecay]<br>\\- [CosineDecayRestarts][cosinedecayrestarts]  |\n",
    "| `Remove Images` | \\- Duplicate Images<br>\\- Corrupt Images<br>\\- Bad Images<br>\\- Misclassified | `Configuration Management` | \\- hydra<br>\\- ml-collections<br>\\- argparse<br>\\-google-fire |\n",
    "| `Generators`    | \\- tf.data.DataSet<br>\\- ImageDataGenerator | `Deployment` | \\- Heroku<br>\\- Railway |\n",
    "| `Evaluation`    | \\- Classification Report<br>\\- Confusion Matrix | `GitHub Actions` (CICD)    | \\- GitHub Super Linter<br>\\- Deploy to Telegram<br>\\- Deploy to Railway<br>\\- nbdev tests CI<br>\\- GitHub Pages(Documentation) |\n",
    "| `Linting`       | \\- Flake8<br>\\- Pydocstyle | `Telegram Bot`| \\- Greet<br>\\- Info<br>\\- Predict Image |\n",
    "| `Formatting`    | \\- Black<br>\\- yapf        | `Documentation`| \\- Code Description<br>\\- Code comments<br>\\- Source link<br>\\- Doclinks|\n",
    "| `Badges`| \\- Build<br>\\- Issues<br>\\- Lint Codebase | `Docker` | |\n",
    "| `Publishing`    | \\- PyPi     |         |"
   ]
  },
  {
   "cell_type": "markdown",
   "metadata": {},
   "source": [
    "## Planned Features"
   ]
  },
  {
   "cell_type": "markdown",
   "metadata": {},
   "source": [
    "[wandb-tables]: https://twitter.com/ayushthakur0/status/1508962184357113856?s=21&t=VRL-ZXzznXV\\_Hg2h7QnjuA\n",
    "| Feature        |                                                     | Feature       |              |\n",
    "|----------------|-----------------------------------------------------|---------------|--------------|\n",
    "| `Deploy`       | \\- HuggingFaces                                     | `Backend`     | \\- FastAPI   |\n",
    "| `Coding Style` | \\- Object Oriented| `Frontend`                      | \\- Streamlit  |              |\n",
    "| `WandB`        | \\- Group Runs<br>\\- [WandB Tables][wandb-tables]    | `Badges`      | \\- Railway   |"
   ]
  },
  {
   "cell_type": "markdown",
   "metadata": {},
   "source": [
    "## Technologies Used\n",
    "\n",
    "\n",
    "|               <!-- -->                         |                                 <!-- -->                       |                         <!-- -->                          |\n",
    "|------------------------------------------------|----------------------------------------------------------------|----------------------------------------------------------|\n",
    "| [![Google Colab][colab-shield]][googlecolab]   | [![python-telegram-bot][telegram-shield]][python-telegram-bot] | [![Railway][railway-shield]][Railway]                    |\n",
    "| [![Jupyter Notebook][jupyter-shield]][Jupyter] | [![Python][python-shield]][Python]                             | [![GitHub Actions][githubactions-shield]][GitHubActions] |\n",
    "| [![Weights & Biases][wandb-shield]][wandb]     | [![TensorFlow][tensorflow-shield]][TensorFlow]                 | [![macOS][mac-shield]][Macos]                            |\n",
    "| [![Docker][docker-shield]][Docker]             | [![Git][git-shield]][git]                                      | [![Hydra][hydra-shield]][Hydra]                          |\n",
    "| [![Black][black-shield]][black]                |                                                                |                                                          |\n",
    "\n"
   ]
  },
  {
   "cell_type": "markdown",
   "metadata": {},
   "source": [
    "<!-- ## Technologies Used\n",
    "::: {layout-ncol=3}\n",
    "\n",
    "[![][jupyter-shield]][Jupyter]\n",
    "\n",
    "[![][wandb-shield]][wandb]\n",
    "\n",
    "[![][git-shield]][git]\n",
    "\n",
    "[![][black-shield]][black]\n",
    "\n",
    "[![][hydra-shield]][Hydra]\n",
    "\n",
    "[![][docker-shield]][Docker]\n",
    "\n",
    "[![][colab-shield]][googlecolab]\n",
    "\n",
    "[![][telegram-shield]][python-telegram-bot]\n",
    "\n",
    "[![][railway-shield]][Railway]\n",
    "\n",
    "[![][python-shield]][Python]\n",
    "\n",
    "[![][githubactions-shield]][GitHubActions]\n",
    "\n",
    "[![][tensorflow-shield]][TensorFlow]\n",
    "\n",
    "[![][mac-shield]][Macos]\n",
    "\n",
    "::: -->"
   ]
  },
  {
   "cell_type": "markdown",
   "metadata": {},
   "source": [
    "## Directory Tree\n",
    "\n",
    "    ├── imgs                              <- Images for skill banner, project banner and other images\n",
    "    │\n",
    "    ├── configs                           <- Configuration files\n",
    "    │   ├── configs.yaml                  <- config for single run\n",
    "    │   └── sweeps.yaml                   <- confguration file for sweeps hyperparameter tuning\n",
    "    │\n",
    "    ├── data\n",
    "    │   ├── corrupted_images              <- corrupted images will be moved to this directory\n",
    "    │   ├── misclassified_images          <- misclassified images will be moved to this directory\n",
    "    │   ├── bad_images                    <- Bad images will be moved to this directory\n",
    "    │   ├── duplicate_images              <- Duplicate images will be moved to this directory\n",
    "    │   ├── sample_images                 <- Sample images for inference\n",
    "    │   ├── 0_raw                         <- The original, immutable data dump.\n",
    "    │   ├── 1_extracted                   <- Extracted data.\n",
    "    │   ├── 2_processed                   <- Intermediate data that has been transformed.\n",
    "    │   └── 3_tfds_dataset                <- The final, canonical data sets for modeling.\n",
    "    │\n",
    "    ├── notebooks                         <- Jupyter notebooks. Used to create the source code.\n",
    "    │\n",
    "    ├── rocks_classifier                  <- Source code used in this project.\n",
    "    │   │\n",
    "    │   ├── data                          <- Scripts to download or generate data\n",
    "    │   │   ├── download.py\n",
    "    │   │   ├── preprocess.py\n",
    "    │   │   └── utils.py\n",
    "    │   │\n",
    "    │   ├── callbacks                     <- functions that are executed during training at given stages of the training procedure\n",
    "    │   │   └── callbacks.py\n",
    "    │   │\n",
    "    │   ├── models                        <- Scripts to train models and then use trained models to make\n",
    "    │   │   │                                predictions\n",
    "    │   │   ├── evaluate.py\n",
    "    │   │   ├── models.py\n",
    "    │   │   ├── predict.py\n",
    "    │   │   ├── train.py\n",
    "    │   │   └── utils.py\n",
    "    │   │\n",
    "    │   └── visualization                 <- Scripts for visualizations\n",
    "    │\n",
    "    ├── .dockerignore                     <- Docker ignore\n",
    "    ├── .gitignore                        <- GitHub's excellent Python .gitignore customized for this project\n",
    "    ├── LICENSE                           <- Your project's license.\n",
    "    ├── README.md                         <- The top-level README for developers using this project.\n",
    "    ├── CHANGELOG.md                      <- Release changes.\n",
    "    ├── CODE_OF_CONDUCT.md                <- Code of conduct.\n",
    "    ├── CONTRIBUTING.md                   <- Contributing Guidelines.\n",
    "    ├── settings.ini                      <- configuration.\n",
    "    ├── README.md                         <- The top-level README for developers using this project.\n",
    "    ├── requirements.txt                  <- The requirements file for reproducing the analysis environment, e.g.\n",
    "    │                                        generated with `pip freeze > requirements.txt`\n",
    "    └── setup.py                          <- makes project pip installable (pip install -e .) so src can be imported"
   ]
  },
  {
   "cell_type": "markdown",
   "metadata": {},
   "source": [
    "## Bug / Feature Request\n",
    "\n",
    "If you find a bug (the site couldn't handle the query and / or gave undesired results), kindly open an issue [here](https://github.com/udaylunawat/Whats-this-rock/issues) by including your search query and the expected result.\n",
    "\n",
    "If you'd like to request a new function, feel free to do so by opening an issue [here](https://github.com/udaylunawat/Whats-this-rock/issues). Please include sample queries and their corresponding results."
   ]
  },
  {
   "cell_type": "markdown",
   "metadata": {},
   "source": [
    "<!-- CONTRIBUTING -->\n",
    "## Contributing\n",
    "\n",
    "- Contributions make the open source community such an amazing place to learn, inspire, and create.\n",
    "- Any contributions you make are **greatly appreciated**.\n",
    "- Check out our [contribution guidelines](../CONTRIBUTING.md) for more information."
   ]
  },
  {
   "cell_type": "markdown",
   "metadata": {},
   "source": [
    "## License\n",
    "\n",
    "Whats-this-rock! is licensed under the MIT License - see the [LICENSE](LICENSE) file for details."
   ]
  },
  {
   "cell_type": "markdown",
   "metadata": {},
   "source": [
    "## Credits\n",
    "\n",
    "- [Dataset 1 - by Mahmoud Alforawi](https://www.kaggle.com/datasets/mahmoudalforawi/igneous-metamorphic-sedimentary-rocks-and-minerals)\n",
    "- [Dataset 2 - by salmaneunus](https://www.kaggle.com/datasets/salmaneunus/rock-classification)\n",
    "- nbdev inspiration - [tmabraham](https://github.com/tmabraham/UPIT)"
   ]
  },
  {
   "cell_type": "markdown",
   "metadata": {},
   "source": [
    "## Support\n",
    "\n",
    "This project needs a ⭐️ from you. Don't forget to leave a star ⭐️\n",
    "\n",
    "<br>\n",
    "<p align=\"center\"> Walt might be the one who knocks <br> but Hank is the one who rocks. </br> </p>\n",
    "\n",
    "[googlecolab]: https://colab.research.google.com/drive/1N1CIqdOKlJSJla5PU53Yn9KWSao47eMv?usp=sharing  \"Google collaboratory\"\n",
    "[python-telegram-bot]: https://github.com/python-telegram-bot/python-telegram-bot \"Telegram Bot\"\n",
    "[railway]: https://railway.app \"Railway\"\n",
    "[jupyter]: https://jupyter.org \"Jupyter\"\n",
    "[python]: https://www.python.org/ \"Python\"\n",
    "[GitHubActions]: https://github.com/features/actions \"Github Actions\"\n",
    "[wandb]: http://wandb.ai \"Weights & Biases\"\n",
    "[TensorFlow]: https://www.tensorflow.org/ \"Tensorflow\"\n",
    "[docker]: http://docker.com \"Docker\"\n",
    "[git]: https://git-scm.com \"Git\"\n",
    "[hydra]: http://hydra.cc \"Hydra\"\n",
    "[black]: http://github.com/psf/black \"Black\"\n",
    "[macos]: https://apple.com/macos \"macOS\"\n",
    "\n",
    "[colab-shield]: https://img.shields.io/badge/Compute-Google%20Colab-F9AB00?logo=googlecolab&logoColor=fff&style=for-the-badge\n",
    "[telegram-shield]: https://img.shields.io/badge/ChatBot-Telegram-2CA5E0?style=for-the-badge&logo=telegram&logoColor=black\n",
    "[railway-shield]: https://img.shields.io/badge/Deployment-Railway-131415?style=for-the-badge&logo=railway&logoColor=black\n",
    "[python-shield]: https://img.shields.io/badge/Language-python-3670A0?style=for-the-badge&logo=python&logoColor=ffdd54\n",
    "[jupyter-shield]: https://img.shields.io/badge/Coding-jupyter-%23FA0F00.svg?style=for-the-badge&logo=jupyter&logoColor=black\n",
    "[githubactions-shield]: https://img.shields.io/badge/CI-github%20actions-%232671E5.svg?style=for-the-badge&logo=githubactions&logoColor=black\n",
    "[wandb-shield]: https://img.shields.io/badge/MLOps-Weights%20%26%20Biases-FFBE00?logo=weightsandbiases&logoColor=000&style=for-the-badge\n",
    "[tensorflow-shield]: https://img.shields.io/badge/ML_Framework-TensorFlow-%23FF6F00.svg?style=for-the-badge&logo=TensorFlow&logoColor=black\n",
    "[mac-shield]: https://img.shields.io/badge/OS-mac%20os-000000?style=for-the-badge&logo=macos&logoColor=F0F0F0\n",
    "[docker-shield]: https://img.shields.io/badge/Container-docker-%230db7ed.svg?style=for-the-badge&logo=docker&logoColor=black\n",
    "[git-shield]: https://img.shields.io/badge/Version_Control-git-%23F05033.svg?style=for-the-badge&logo=git&logoColor=black\n",
    "[hydra-shield]: https://img.shields.io/badge/config-hydra1.1-89b8cd?style=for-the-badge&labelColor=gray\n",
    "[black-shield]: https://img.shields.io/badge/code%20style-black-black.svg?style=for-the-badge&labelColor=gray\n"
   ]
  },
  {
   "cell_type": "code",
   "execution_count": null,
   "metadata": {},
   "outputs": [],
   "source": []
  }
 ],
 "metadata": {
  "kernelspec": {
   "display_name": "Python 3.9.15 ('rocks')",
   "language": "python",
   "name": "python3"
  }
 },
 "nbformat": 4,
 "nbformat_minor": 4
}
