{
 "cells": [
  {
   "cell_type": "code",
   "execution_count": null,
   "id": "90da3016-8c83-40f4-9cb6-3b9e5697046d",
   "metadata": {},
   "outputs": [],
   "source": [
    "#| default_exp data.utils"
   ]
  },
  {
   "cell_type": "markdown",
   "id": "0303a7af-0fc3-48f0-ac29-040daa5f491d",
   "metadata": {},
   "source": [
    "# 2) Download utilities\n",
    "> Utils for downloading and preprocessing data"
   ]
  },
  {
   "cell_type": "code",
   "execution_count": null,
   "id": "71da0382-f63b-439b-b26d-7ffe67994e99",
   "metadata": {},
   "outputs": [],
   "source": [
    "#| hide\n",
    "\n",
    "import os"
   ]
  },
  {
   "cell_type": "code",
   "execution_count": null,
   "id": "9e9ee873-fb26-46e2-ae0f-41aeaa61c3e1",
   "metadata": {},
   "outputs": [],
   "source": [
    "#| hide\n",
    "\n",
    "os.chdir('../')"
   ]
  },
  {
   "cell_type": "code",
   "execution_count": null,
   "id": "47f78344-8738-403d-8113-39e33c7d9979",
   "metadata": {},
   "outputs": [],
   "source": [
    "#| export\n",
    "#| hide\n",
    "\n",
    "import os\n",
    "from time import time\n",
    "import shutil\n",
    "from typing import List, Tuple"
   ]
  },
  {
   "cell_type": "code",
   "execution_count": null,
   "id": "d8d4438d-6add-4e4e-a844-9a40af4aabaf",
   "metadata": {},
   "outputs": [],
   "source": [
    "#| export\n",
    "\n",
    "def timer_func(func):\n",
    "    \"\"\"Show the execution time of the function object passed.\n",
    "\n",
    "    Parameters\n",
    "    ----------\n",
    "    func : _type_\n",
    "        _description_\n",
    "    \"\"\"\n",
    "\n",
    "    def wrap_func(*args, **kwargs):\n",
    "        t1 = time()\n",
    "        result = func(*args, **kwargs)\n",
    "        t2 = time()\n",
    "        print(f\"Function {func.__name__!r} executed in {(t2-t1):.4f}s\")\n",
    "        return result\n",
    "\n",
    "    return wrap_func"
   ]
  },
  {
   "cell_type": "markdown",
   "id": "e9865427-6031-45d5-8dd7-1a366099c4ba",
   "metadata": {},
   "source": [
    "Recursively finding all files in folder"
   ]
  },
  {
   "cell_type": "code",
   "execution_count": null,
   "id": "d812e868-28bd-4194-b9a6-5ec0c8ac0ffb",
   "metadata": {},
   "outputs": [],
   "source": [
    "#| export\n",
    "\n",
    "def find_filepaths(root_folder: str) -> (List, int):\n",
    "    \"\"\"Recursively finds all files.\n",
    "\n",
    "    Parameters\n",
    "    ----------\n",
    "    root_folder : str\n",
    "        folder path\n",
    "\n",
    "    Returns\n",
    "    -------\n",
    "    Tuple\n",
    "        Returns a Tuple (Sorted filepaths, length of filepaths)\n",
    "    \"\"\"\n",
    "    filepaths = []\n",
    "    for dirname, _, filenames in os.walk(root_folder):\n",
    "        for filename in filenames:\n",
    "            filepaths.append(os.path.join(dirname, filename))\n",
    "\n",
    "    return sorted(filepaths), len(filepaths)"
   ]
  },
  {
   "cell_type": "code",
   "execution_count": null,
   "id": "07795431-f4af-4bfa-8d72-4f43cd884f25",
   "metadata": {},
   "outputs": [],
   "source": [
    "#| export\n",
    "\n",
    "def move_to_processed():\n",
    "    \"\"\"\n",
    "    Combines files with same subclass and moves them to the subclass under data/2_processed.\n",
    "\n",
    "    Uses `get_new_name` to create new names of files and then rename them and copy to data/2_processed.\n",
    "    \"\"\"\n",
    "    dir1 = \"data/1_extracted/dataset1/\"\n",
    "    dir2 = \"data/1_extracted/dataset2/\"\n",
    "    for d1, d2 in zip(sorted(os.listdir(dir1)), sorted(os.listdir(dir2))):\n",
    "        path_dict = get_new_name([os.path.join(dir1, d1), os.path.join(dir2, d2)])\n",
    "\n",
    "        for old_path, new_path in path_dict.items():\n",
    "            shutil.copy(old_path, new_path)\n",
    "\n",
    "\n",
    "def get_new_name(dir_list: list) -> dict:\n",
    "    \"\"\"Return dict with old name and new name of files in multiple directories.\n",
    "\n",
    "    {'data/1_extracted/dataset1/Basalt/14.jpg': 'data/2_processed/Basalt/dataset1_01_Basalt_14.jpg'}\n",
    "\n",
    "    Parameters\n",
    "    ----------\n",
    "    dir_list : list\n",
    "        list of dir paths\n",
    "\n",
    "    Returns\n",
    "    -------\n",
    "    dict\n",
    "        {old_name: new_name}\n",
    "    \"\"\"\n",
    "    file_list = []\n",
    "    for dir in dir_list:\n",
    "        paths, _ = find_filepaths(dir)\n",
    "        file_list.extend(paths)\n",
    "\n",
    "    count = 1\n",
    "    file_dict = {}\n",
    "    for file_path in file_list:\n",
    "        dataset = file_path.split(\"/\")[-3]\n",
    "        class_name = file_path.split(\"/\")[-2]\n",
    "        basename = os.path.basename(file_path)\n",
    "        file_name = os.path.splitext(basename)[0]\n",
    "        extension = os.path.splitext(basename)[1]\n",
    "        new_file_name = os.path.join(\n",
    "            \"data\",\n",
    "            \"2_processed\",\n",
    "            class_name,\n",
    "            f\"{dataset}_{class_name}_{str(count).zfill(3)}_{file_name}{extension}\",\n",
    "        )\n",
    "        file_dict[file_path] = new_file_name\n",
    "        count += 1\n",
    "\n",
    "    return file_dict"
   ]
  }
 ],
 "metadata": {
  "kernelspec": {
   "display_name": "Python 3 (ipykernel)",
   "language": "python",
   "name": "python3"
  }
 },
 "nbformat": 4,
 "nbformat_minor": 5
}
