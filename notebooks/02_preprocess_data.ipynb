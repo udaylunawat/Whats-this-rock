{
 "cells": [
  {
   "cell_type": "code",
   "execution_count": null,
   "id": "fa59c3af-98e7-4308-890b-f8dac2c2356f",
   "metadata": {},
   "outputs": [],
   "source": [
    "#| default_exp data.preprocess"
   ]
  },
  {
   "cell_type": "code",
   "execution_count": null,
   "id": "b46118d4-945c-4b77-af2c-6f1ba9bdb877",
   "metadata": {},
   "outputs": [],
   "source": [
    "#| hide\n",
    "\n",
    "import os"
   ]
  },
  {
   "cell_type": "code",
   "execution_count": null,
   "id": "d329f7d5-d58c-4cab-98b1-36c841385dc2",
   "metadata": {},
   "outputs": [],
   "source": [
    "#| hide\n",
    "\n",
    "os.chdir('../')"
   ]
  },
  {
   "cell_type": "markdown",
   "id": "129b8ac8-89eb-45c1-a996-3b3350fb50ad",
   "metadata": {},
   "source": [
    "# 3) Preprocess Data\n",
    "> Move images from both datasets to respective class labels, remove duplicates, bad and corrupted images."
   ]
  },
  {
   "cell_type": "markdown",
   "id": "aa428264-11ff-4eda-bc5c-7ce26fadf0f0",
   "metadata": {},
   "source": [
    "## Steps\n",
    "\n",
    "> This is the description & steps of the `preprocess_data` function which combines the following functions"
   ]
  },
  {
   "cell_type": "markdown",
   "id": "f018718f-7426-451d-8d92-d4f184637853",
   "metadata": {},
   "source": [
    "1. Rename and move files to data/2_processed.\n",
    "2. List files other than jpg and png, to remove unsupported files.\n",
    "3. List file by types before cleaning.\n",
    "4. Remove\n",
    "    - Bad Images\n",
    "    - Duplicate Images\n",
    "    - Misclassified Images\n",
    "    - Unsupported Images\n",
    "    - Corrupted Images\n",
    "4. List file by types after cleaning.\n",
    "5. Get count of files by class types.\n",
    "6. Handle Imbalance using Undersampling, Oversampling."
   ]
  },
  {
   "cell_type": "code",
   "execution_count": null,
   "id": "ba546b18-3829-4719-8349-68d92c1ba7ca",
   "metadata": {},
   "outputs": [],
   "source": [
    "#| hide\n",
    "\n",
    "from nbdev.showdoc import *"
   ]
  },
  {
   "cell_type": "code",
   "execution_count": null,
   "id": "9d286c22-7ada-4577-ae66-6f5022b5fbf2",
   "metadata": {},
   "outputs": [],
   "source": [
    "#| export\n",
    "#| hide\n",
    "\n",
    "import os\n",
    "import subprocess\n",
    "import logging\n",
    "import hydra\n",
    "\n",
    "from rocks_classifier.data.utils import move_to_processed, find_filepaths"
   ]
  },
  {
   "cell_type": "code",
   "execution_count": null,
   "id": "5f649850-f064-4bdf-88ca-b7c3b577beb2",
   "metadata": {},
   "outputs": [],
   "source": [
    "#| hide\n",
    "\n",
    "assert all([dir in os.listdir() for dir in ['data', 'rocks_classifier']])"
   ]
  },
  {
   "cell_type": "markdown",
   "id": "955785b8-f65c-4996-ad99-24c1108679d4",
   "metadata": {},
   "source": [
    "### 1. Rename and move files to data/2_processed."
   ]
  },
  {
   "cell_type": "code",
   "execution_count": null,
   "id": "6f57bed4-67c5-4ca4-bf39-09afc5521352",
   "metadata": {},
   "outputs": [],
   "source": [
    "show_doc(move_to_processed)"
   ]
  },
  {
   "cell_type": "markdown",
   "id": "b78d1a49-7700-4075-b659-4c672a65d90a",
   "metadata": {},
   "source": [
    "### 2. List files other than jpg and png, to remove unsupported files."
   ]
  },
  {
   "cell_type": "code",
   "execution_count": null,
   "id": "8ff85d62-027c-4980-b6b8-e0f749b35660",
   "metadata": {},
   "outputs": [],
   "source": [
    "print(\"\\n\\nFiles other than jpg and png.\\n\")\n",
    "files, _ = find_filepaths('data/2_processed/')\n",
    "print('\\n'.join(list(filter(lambda x: not x.endswith('jpg') and not x.endswith('png'), files))))"
   ]
  },
  {
   "cell_type": "markdown",
   "id": "1b19497c-5b82-4e29-92c6-2dde0e17d996",
   "metadata": {},
   "source": [
    "## Functions"
   ]
  },
  {
   "cell_type": "code",
   "execution_count": null,
   "id": "45cf1511-3342-46da-8c5b-f1df38302c38",
   "metadata": {},
   "outputs": [],
   "source": []
  }
 ],
 "metadata": {
  "kernelspec": {
   "display_name": "Python 3 (ipykernel)",
   "language": "python",
   "name": "python3"
  }
 },
 "nbformat": 4,
 "nbformat_minor": 5
}
