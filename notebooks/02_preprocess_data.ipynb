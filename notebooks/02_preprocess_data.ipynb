{
 "cells": [
  {
   "cell_type": "code",
   "execution_count": null,
   "id": "fa59c3af-98e7-4308-890b-f8dac2c2356f",
   "metadata": {},
   "outputs": [],
   "source": [
    "#| default_exp data.preprocess"
   ]
  },
  {
   "cell_type": "code",
   "execution_count": null,
   "id": "b46118d4-945c-4b77-af2c-6f1ba9bdb877",
   "metadata": {},
   "outputs": [],
   "source": [
    "#| hide\n",
    "\n",
    "import os"
   ]
  },
  {
   "cell_type": "code",
   "execution_count": null,
   "id": "d329f7d5-d58c-4cab-98b1-36c841385dc2",
   "metadata": {},
   "outputs": [],
   "source": [
    "#| hide\n",
    "\n",
    "os.chdir('../')"
   ]
  },
  {
   "cell_type": "markdown",
   "id": "129b8ac8-89eb-45c1-a996-3b3350fb50ad",
   "metadata": {},
   "source": [
    "# 3) Preprocess Data\n",
    "> Move images from both datasets to respective class labels, remove duplicates, bad and corrupted images."
   ]
  },
  {
   "cell_type": "markdown",
   "id": "aa428264-11ff-4eda-bc5c-7ce26fadf0f0",
   "metadata": {},
   "source": [
    "## Steps\n",
    "\n",
    "> This is the description & steps of the `preprocess_data` function which combines the following functions"
   ]
  },
  {
   "cell_type": "markdown",
   "id": "f018718f-7426-451d-8d92-d4f184637853",
   "metadata": {},
   "source": [
    "1. Rename and move files to data/2_processed.\n",
    "2. List files other than jpg and png, to remove unsupported files.\n",
    "3. List file by types before cleaning.\n",
    "4. Remove\n",
    "    - Bad Images\n",
    "    - Duplicate Images\n",
    "    - Misclassified Images\n",
    "    - Unsupported Images\n",
    "    - Corrupted Images\n",
    "4. List file by types after cleaning.\n",
    "5. Get count of files by class types.\n",
    "6. Handle Imbalance using Undersampling, Oversampling."
   ]
  },
  {
   "cell_type": "code",
   "execution_count": null,
   "id": "ba546b18-3829-4719-8349-68d92c1ba7ca",
   "metadata": {},
   "outputs": [],
   "source": [
    "#| hide\n",
    "\n",
    "from nbdev.showdoc import *"
   ]
  },
  {
   "cell_type": "code",
   "execution_count": null,
   "id": "9d286c22-7ada-4577-ae66-6f5022b5fbf2",
   "metadata": {},
   "outputs": [],
   "source": [
    "#| hide\n",
    "\n",
    "import os\n",
    "import subprocess\n",
    "import logging\n",
    "import hydra\n",
    "\n",
    "from rocks_classifier.data.utils import move_to_processed, find_filepaths"
   ]
  },
  {
   "cell_type": "code",
   "execution_count": null,
   "id": "5f649850-f064-4bdf-88ca-b7c3b577beb2",
   "metadata": {},
   "outputs": [],
   "source": [
    "#| hide\n",
    "\n",
    "assert all([dir in os.listdir() for dir in ['data', 'rocks_classifier']])"
   ]
  },
  {
   "cell_type": "markdown",
   "id": "955785b8-f65c-4996-ad99-24c1108679d4",
   "metadata": {},
   "source": [
    "### 1. Rename and move files to data/2_processed."
   ]
  },
  {
   "cell_type": "code",
   "execution_count": null,
   "id": "6f57bed4-67c5-4ca4-bf39-09afc5521352",
   "metadata": {},
   "outputs": [
    {
     "data": {
      "text/markdown": [
       "---\n",
       "\n",
       "[source](https://github.com/udaylunawat/Whats-this-rock/blob/nbdev/rocks_classifier/data/utils.py#LNone){target=\"_blank\" style=\"float:right; font-size:smaller\"}\n",
       "\n",
       "### move_to_processed\n",
       "\n",
       ">      move_to_processed ()\n",
       "\n",
       "Combines files with same subclass and moves them to the subclass under data/2_processed.\n",
       "\n",
       "Uses `get_new_name` to create new names of files and then rename them and copy to data/2_processed."
      ],
      "text/plain": [
       "---\n",
       "\n",
       "[source](https://github.com/udaylunawat/Whats-this-rock/blob/nbdev/rocks_classifier/data/utils.py#LNone){target=\"_blank\" style=\"float:right; font-size:smaller\"}\n",
       "\n",
       "### move_to_processed\n",
       "\n",
       ">      move_to_processed ()\n",
       "\n",
       "Combines files with same subclass and moves them to the subclass under data/2_processed.\n",
       "\n",
       "Uses `get_new_name` to create new names of files and then rename them and copy to data/2_processed."
      ]
     },
     "execution_count": null,
     "metadata": {},
     "output_type": "execute_result"
    }
   ],
   "source": [
    "show_doc(move_to_processed)"
   ]
  },
  {
   "cell_type": "markdown",
   "id": "b78d1a49-7700-4075-b659-4c672a65d90a",
   "metadata": {},
   "source": [
    "### 2. List files other than jpg and png, to remove unsupported files."
   ]
  },
  {
   "cell_type": "code",
   "execution_count": null,
   "id": "8ff85d62-027c-4980-b6b8-e0f749b35660",
   "metadata": {},
   "outputs": [
    {
     "name": "stdout",
     "output_type": "stream",
     "text": [
      "\n",
      "\n",
      "Files other than jpg and png.\n",
      "\n",
      "data/2_processed/.DS_Store\n",
      "data/2_processed/Coal/dataset1_Coal_025_12.jpeg\n",
      "data/2_processed/Coal/dataset1_Coal_070_162.jpeg\n",
      "data/2_processed/Coal/dataset1_Coal_071_163.jpeg\n",
      "data/2_processed/Coal/dataset1_Coal_072_164.jpeg\n",
      "data/2_processed/Coal/dataset1_Coal_073_165.jpeg\n",
      "data/2_processed/Coal/dataset1_Coal_074_166.jpeg\n",
      "data/2_processed/Coal/dataset1_Coal_075_167.jpeg\n",
      "data/2_processed/Coal/dataset1_Coal_076_168.jpeg\n",
      "data/2_processed/Coal/dataset1_Coal_077_169.jpeg\n",
      "data/2_processed/Coal/dataset1_Coal_079_170.jpeg\n",
      "data/2_processed/Coal/dataset1_Coal_080_171.jpeg\n",
      "data/2_processed/Coal/dataset1_Coal_081_172.jpeg\n",
      "data/2_processed/Coal/dataset1_Coal_082_173.jpeg\n",
      "data/2_processed/Coal/dataset1_Coal_083_174.jpeg\n",
      "data/2_processed/Coal/dataset1_Coal_084_175.jpeg\n",
      "data/2_processed/Coal/dataset1_Coal_085_176.jpeg\n",
      "data/2_processed/Coal/dataset1_Coal_086_177.jpeg\n",
      "data/2_processed/Coal/dataset1_Coal_087_178.jpeg\n",
      "data/2_processed/Coal/dataset1_Coal_088_179.jpeg\n",
      "data/2_processed/Coal/dataset1_Coal_090_180.jpeg\n",
      "data/2_processed/Coal/dataset1_Coal_091_181.jpeg\n",
      "data/2_processed/Granite/dataset1_Granite_017_23.jpeg\n",
      "data/2_processed/Granite/dataset1_Granite_021_27.jpeg\n",
      "data/2_processed/Granite/dataset1_Granite_029_34.JPEG\n",
      "data/2_processed/Granite/dataset1_Granite_031_36.JPEG\n",
      "data/2_processed/Granite/dataset1_Granite_036_40.JPEG\n",
      "data/2_processed/Granite/dataset1_Granite_062_64.JPEG\n",
      "data/2_processed/Granite/dataset1_Granite_072_73.JPEG\n",
      "data/2_processed/Granite/dataset1_Granite_073_74.JPEG\n",
      "data/2_processed/Granite/dataset1_Granite_074_75.JPEG\n",
      "data/2_processed/Granite/dataset1_Granite_075_76.JPEG\n",
      "data/2_processed/Granite/dataset1_Granite_076_77.JPEG\n",
      "data/2_processed/Granite/dataset1_Granite_077_78.JPEG\n",
      "data/2_processed/Granite/dataset1_Granite_078_79.JPEG\n",
      "data/2_processed/Granite/dataset1_Granite_080_80.JPEG\n",
      "data/2_processed/Granite/dataset1_Granite_081_81.JPEG\n",
      "data/2_processed/Granite/dataset1_Granite_082_82.JPEG\n",
      "data/2_processed/Granite/dataset1_Granite_083_83.JPEG\n",
      "data/2_processed/Granite/dataset1_Granite_084_84.JPEG\n",
      "data/2_processed/Granite/dataset1_Granite_085_85.JPEG\n",
      "data/2_processed/Granite/dataset1_Granite_086_86.JPEG\n",
      "data/2_processed/Granite/dataset1_Granite_092_91.JPEG\n",
      "data/2_processed/Granite/dataset1_Granite_099_98.JPEG\n",
      "data/2_processed/Limestone/dataset1_Limestone_004_100.jpeg\n",
      "data/2_processed/Limestone/dataset1_Limestone_005_101.webp\n",
      "data/2_processed/Limestone/dataset1_Limestone_006_102.jfif\n",
      "data/2_processed/Limestone/dataset1_Limestone_007_103.jfif\n",
      "data/2_processed/Limestone/dataset1_Limestone_008_104.jfif\n",
      "data/2_processed/Limestone/dataset1_Limestone_125_21.jpeg\n",
      "data/2_processed/Limestone/dataset1_Limestone_156_238.jpeg\n",
      "data/2_processed/Limestone/dataset1_Limestone_203_280.jpeg\n",
      "data/2_processed/Limestone/dataset1_Limestone_215_291.jfif\n",
      "data/2_processed/Limestone/dataset1_Limestone_224_3.webp\n",
      "data/2_processed/Limestone/dataset1_Limestone_271_38.jfif\n",
      "data/2_processed/Limestone/dataset1_Limestone_306_7.jpeg\n",
      "data/2_processed/Marble/dataset1_Marble_277_Marmo_z17.jfif\n",
      "data/2_processed/Marble/dataset1_Marble_282_images.jfif\n",
      "data/2_processed/Marble/dataset1_Marble_380_mineral-stone-marble-nonfoliated-metamorphic-260nw-349915676.webp\n",
      "data/2_processed/Marble/dataset1_Marble_387_u3tqorgn31mp65iypkwy_7e2e86ad-6a3f-410e-9584-caa5b075ccd7_825x700.webp\n",
      "data/2_processed/Quartzite/dataset1_Quartzite_471_quartzite-crystal-mineral-sample-studio-shot-with-black-background-972333846-5c7e6525c9e77c0001d19dda.webp\n",
      "data/2_processed/Sandstone/dataset1_Sandstone_058_15.webp\n",
      "data/2_processed/Sandstone/dataset1_Sandstone_248_320.webp\n"
     ]
    }
   ],
   "source": [
    "print(\"\\n\\nFiles other than jpg and png.\\n\")\n",
    "files, _ = find_filepaths('data/2_processed/')\n",
    "print('\\n'.join(list(filter(lambda x: not x.endswith('jpg') and not x.endswith('png'), files))))"
   ]
  },
  {
   "cell_type": "markdown",
   "id": "1b19497c-5b82-4e29-92c6-2dde0e17d996",
   "metadata": {},
   "source": [
    "## Functions"
   ]
  },
  {
   "cell_type": "code",
   "execution_count": null,
   "id": "7f5ae593-38ea-48f1-be38-bd245dd815ec",
   "metadata": {},
   "outputs": [],
   "source": [
    "#| export\n",
    "#| hide\n",
    "\n",
    "import os\n",
    "import subprocess\n",
    "import logging\n",
    "import hydra\n",
    "\n",
    "from rocks_classifier.data.download import download_datasets\n",
    "from rocks_classifier.data.utils import (\n",
    "    clean_download_files,\n",
    "    find_filepaths,\n",
    "    get_df,\n",
    "    get_value_counts,\n",
    "    move_to_processed,\n",
    "    sampling,\n",
    "    clean_images,\n",
    ")"
   ]
  },
  {
   "cell_type": "code",
   "execution_count": null,
   "id": "9fa92c3b-03e6-4c91-884e-6a2294fffcc1",
   "metadata": {},
   "outputs": [],
   "source": [
    "#| export\n",
    "\n",
    "# @hydra.main(config_path=\"../../configs\", config_name=\"config\", version_base=\"1.2\")\n",
    "def process_data():\n",
    "    \"\"\"Download dataset, removes unsupported and corrupted images, and splits data into train, val and test.\n",
    "\n",
    "    Parameters\n",
    "    ----------\n",
    "    cfg : cfg (omegaconf.DictConfig):\n",
    "        Hydra Configuration\n",
    "    \"\"\"\n",
    "    import omegaconf\n",
    "    path = 'configs/config.yaml'\n",
    "    cfg = omegaconf.OmegaConf.load(path)\n",
    "    \n",
    "    clean_download_files()\n",
    "    download_datasets()\n",
    "    move_to_processed()\n",
    "\n",
    "    print(\"\\n\\nFiles other than jpg and png.\\n\")\n",
    "    files, _ = find_filepaths('data/2_processed/')\n",
    "    print('\\n'.join(list(filter(lambda x: not x.endswith('jpg') and not x.endswith('png'), files))))\n",
    "\n",
    "    print(\"\\nFile types before cleaning:\")\n",
    "    get_value_counts(\"data/2_processed\")\n",
    "\n",
    "    clean_images(cfg)\n",
    "\n",
    "    print(\"\\nFile types after cleaning:\")\n",
    "    get_value_counts(\"data/2_processed\")\n",
    "\n",
    "    print(\"\\nCounts of classes:\\n\")\n",
    "    get_value_counts(\"data/2_processed\", column=\"class\")\n",
    "\n",
    "    sampling(cfg)\n"
   ]
  },
  {
   "cell_type": "code",
   "execution_count": null,
   "id": "f98de636-e154-45ee-9bab-5c10c9d86caa",
   "metadata": {},
   "outputs": [],
   "source": [
    "#| hide\n",
    "from nbdev import nbdev_export\n",
    "nbdev_export()"
   ]
  }
 ],
 "metadata": {
  "kernelspec": {
   "display_name": "Python 3 (ipykernel)",
   "language": "python",
   "name": "python3"
  }
 },
 "nbformat": 4,
 "nbformat_minor": 5
}
