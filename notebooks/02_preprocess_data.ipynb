{
 "cells": [
  {
   "cell_type": "code",
   "execution_count": null,
   "id": "fa59c3af-98e7-4308-890b-f8dac2c2356f",
   "metadata": {},
   "outputs": [],
   "source": [
    "#| default_exp data.preprocess"
   ]
  },
  {
   "cell_type": "code",
   "execution_count": null,
   "id": "d733757d-a2a1-4891-a36a-3c3d02046d4d",
   "metadata": {},
   "outputs": [],
   "source": [
    "#| hide\n",
    "#| eval: false\n",
    "\n",
    "%reload_ext autoreload\n",
    "%autoreload 2\n",
    "%matplotlib inline"
   ]
  },
  {
   "cell_type": "code",
   "execution_count": null,
   "id": "b46118d4-945c-4b77-af2c-6f1ba9bdb877",
   "metadata": {},
   "outputs": [],
   "source": [
    "#| hide\n",
    "\n",
    "import os"
   ]
  },
  {
   "cell_type": "code",
   "execution_count": null,
   "id": "d329f7d5-d58c-4cab-98b1-36c841385dc2",
   "metadata": {},
   "outputs": [],
   "source": [
    "#| hide\n",
    "\n",
    "os.chdir('../')\n",
    "# verify that data directory and rock_classifier dir are present\n",
    "assert all([dir in os.listdir() for dir in ['data', 'rocks_classifier']])"
   ]
  },
  {
   "cell_type": "markdown",
   "id": "129b8ac8-89eb-45c1-a996-3b3350fb50ad",
   "metadata": {},
   "source": [
    "# Preprocess Data\n",
    "> Move images from both datasets to respective class labels, remove duplicates, bad and corrupted images."
   ]
  },
  {
   "cell_type": "markdown",
   "id": "aa428264-11ff-4eda-bc5c-7ce26fadf0f0",
   "metadata": {},
   "source": [
    "# Steps\n",
    "\n",
    "> This is the description & steps of the `preprocess_data` function which combines the following functions"
   ]
  },
  {
   "cell_type": "markdown",
   "id": "f018718f-7426-451d-8d92-d4f184637853",
   "metadata": {},
   "source": [
    "1. Clear data directory, Download and move datasets.\n",
    "2. Rename and move files to data/2_processed.\n",
    "3. List files other than jpg and png, to remove unsupported files.\n",
    "4. List file by types before cleaning.\n",
    "5. Remove\n",
    "    - Bad Images\n",
    "    - Duplicate Images\n",
    "    - Misclassified Images\n",
    "    - Unsupported Images\n",
    "    - Corrupted Images\n",
    "6. List file by types after cleaning.\n",
    "7. Get count of files by class types.\n",
    "8. Handle Imbalance using Undersampling, Oversampling."
   ]
  },
  {
   "cell_type": "code",
   "execution_count": null,
   "id": "ba546b18-3829-4719-8349-68d92c1ba7ca",
   "metadata": {},
   "outputs": [],
   "source": [
    "#| hide\n",
    "\n",
    "from nbdev.showdoc import *"
   ]
  },
  {
   "cell_type": "code",
   "execution_count": null,
   "id": "7f5ae593-38ea-48f1-be38-bd245dd815ec",
   "metadata": {},
   "outputs": [],
   "source": [
    "#| export\n",
    "#| hide\n",
    "\n",
    "import os\n",
    "import requests\n",
    "import subprocess\n",
    "import logging\n",
    "import hydra, omegaconf\n",
    "\n",
    "from rocks_classifier.data.download import download_and_move_datasets\n",
    "from rocks_classifier.data.utils import *"
   ]
  },
  {
   "cell_type": "code",
   "execution_count": null,
   "id": "689b5431-655e-4b19-86cb-bd8ba80942dc",
   "metadata": {},
   "outputs": [],
   "source": [
    "#| hide\n",
    "\n",
    "%whos"
   ]
  },
  {
   "cell_type": "code",
   "execution_count": null,
   "id": "02b06e4a-ec82-4556-897a-156fb3f9da51",
   "metadata": {},
   "outputs": [],
   "source": [
    "#| hide\n",
    "#| eval: false\n",
    "\n",
    "download_configs()"
   ]
  },
  {
   "cell_type": "code",
   "execution_count": null,
   "id": "7a33a7a2-994b-4336-a29d-6596782ecc87",
   "metadata": {},
   "outputs": [],
   "source": [
    "#| hide\n",
    "\n",
    "# path = 'configs/config.yaml'\n",
    "# cfg = omegaconf.OmegaConf.load(path)"
   ]
  },
  {
   "cell_type": "markdown",
   "id": "63577104-70c9-4413-96fa-8d007c4d2970",
   "metadata": {},
   "source": [
    "## 1. Download and move datasets.\n",
    "> Also clears the data directory if files already exists. "
   ]
  },
  {
   "cell_type": "code",
   "execution_count": null,
   "id": "b1c71bb7-bdab-44e0-b92e-48b3e5955a8d",
   "metadata": {},
   "outputs": [],
   "source": [
    "show_doc(download_and_move_datasets)"
   ]
  },
  {
   "cell_type": "code",
   "execution_count": null,
   "id": "3c665dd1-113c-4d03-8cdd-1e556cb3b9da",
   "metadata": {},
   "outputs": [],
   "source": [
    "#|echo: false\n",
    "#| eval: false\n",
    "\n",
    "download_and_move_datasets()"
   ]
  },
  {
   "cell_type": "markdown",
   "id": "955785b8-f65c-4996-ad99-24c1108679d4",
   "metadata": {},
   "source": [
    "## 2. Rename and move files to data/2_processed."
   ]
  },
  {
   "cell_type": "code",
   "execution_count": null,
   "id": "6f57bed4-67c5-4ca4-bf39-09afc5521352",
   "metadata": {},
   "outputs": [],
   "source": [
    "show_doc(move_to_processed)"
   ]
  },
  {
   "cell_type": "code",
   "execution_count": null,
   "id": "68eb133d-f38e-40d7-a10b-f68c17feb34c",
   "metadata": {},
   "outputs": [],
   "source": [
    "#|echo: false\n",
    "#| eval: false\n",
    "\n",
    "move_to_processed()"
   ]
  },
  {
   "cell_type": "markdown",
   "id": "b78d1a49-7700-4075-b659-4c672a65d90a",
   "metadata": {},
   "source": [
    "## 3. List files other than jpg and png, to remove unsupported files."
   ]
  },
  {
   "cell_type": "code",
   "execution_count": null,
   "id": "8ff85d62-027c-4980-b6b8-e0f749b35660",
   "metadata": {},
   "outputs": [],
   "source": [
    "#| eval: false\n",
    "#|echo: true\n",
    "#|code-fold: true\n",
    "\n",
    "print(\"\\nFiles other than jpg and png.\\n\")\n",
    "files, _ = find_filepaths('data/2_processed/')\n",
    "print('\\n'.join(list(filter(lambda x: not x.endswith('jpg') and not x.endswith('png'), files))))"
   ]
  },
  {
   "cell_type": "markdown",
   "id": "b71f8e87-3d23-4a07-b0ea-1c0273dcfe55",
   "metadata": {},
   "source": [
    "## 4. List file by types before cleaning.\n"
   ]
  },
  {
   "cell_type": "code",
   "execution_count": null,
   "id": "6f1506fa-42bf-4fe5-902a-8f03d49d2397",
   "metadata": {},
   "outputs": [],
   "source": [
    "#| eval: false\n",
    "#|echo: false\n",
    "\n",
    "print(\"\\nFile types before cleaning:\")\n",
    "get_value_counts(\"data/2_processed\")"
   ]
  },
  {
   "cell_type": "markdown",
   "id": "b3eb9c2f-1e7b-44fb-802d-a38022a894ef",
   "metadata": {},
   "source": [
    "## 5. Remove\n",
    "    - Bad Images\n",
    "    - Duplicate Images\n",
    "    - Misclassified Images\n",
    "    - Unsupported Images\n",
    "    - Corrupted Images\n"
   ]
  },
  {
   "cell_type": "code",
   "execution_count": null,
   "id": "925897d5-36a2-4a74-bc14-62bee7701b59",
   "metadata": {},
   "outputs": [],
   "source": [
    "show_doc(clean_images)"
   ]
  },
  {
   "cell_type": "code",
   "execution_count": null,
   "id": "e3f2878e-8a24-45d3-bb02-a31507ae1c25",
   "metadata": {},
   "outputs": [],
   "source": [
    "#| eval: false\n",
    "#|echo: false\n",
    "\n",
    "clean_images(cfg)"
   ]
  },
  {
   "cell_type": "markdown",
   "id": "6846a71b-d417-42da-addb-52bbd9c7985d",
   "metadata": {},
   "source": [
    "## 6. List file by types after cleaning.\n"
   ]
  },
  {
   "cell_type": "code",
   "execution_count": null,
   "id": "3356d777-346a-4ad5-a406-ee42d06ac848",
   "metadata": {},
   "outputs": [],
   "source": [
    "#| eval: false\n",
    "#|echo: false\n",
    "\n",
    "print(\"\\nFile types after cleaning:\")\n",
    "get_value_counts(\"data/2_processed\")"
   ]
  },
  {
   "cell_type": "markdown",
   "id": "fbcaa64b-7ef6-4077-87bd-fa5c152ca94a",
   "metadata": {},
   "source": [
    "## 7. Get count of files by class types.\n"
   ]
  },
  {
   "cell_type": "code",
   "execution_count": null,
   "id": "e59c4480-b62f-47fb-917f-96c73ee8d268",
   "metadata": {},
   "outputs": [],
   "source": [
    "#| eval: false\n",
    "#|echo: false\n",
    "\n",
    "print(\"\\nCounts of classes:\\n\")\n",
    "get_value_counts(\"data/2_processed\", column=\"class\")"
   ]
  },
  {
   "cell_type": "markdown",
   "id": "bcc9caf0-a954-4d91-a370-4c6b0a26e6f9",
   "metadata": {},
   "source": [
    "## 8. Handle Imbalance"
   ]
  },
  {
   "cell_type": "markdown",
   "id": "fc714326-3092-4a6f-94a1-3f2729f40c00",
   "metadata": {},
   "source": [
    "Using Undersampling, Oversampling and No Sampling."
   ]
  },
  {
   "cell_type": "code",
   "execution_count": null,
   "id": "054797ca-31cb-42a7-9d34-54d10543f421",
   "metadata": {},
   "outputs": [],
   "source": [
    "show_doc(sampling)"
   ]
  },
  {
   "cell_type": "code",
   "execution_count": null,
   "id": "a633fe89-06eb-4843-bec5-c2ae7c19222b",
   "metadata": {},
   "outputs": [],
   "source": [
    "#| eval: false\n",
    "#| echo: false\n",
    "\n",
    "sampling(cfg)"
   ]
  },
  {
   "cell_type": "markdown",
   "id": "1b19497c-5b82-4e29-92c6-2dde0e17d996",
   "metadata": {},
   "source": [
    "## Putting it all together"
   ]
  },
  {
   "cell_type": "markdown",
   "id": "57b32bfe-ee04-40de-bece-497924833098",
   "metadata": {},
   "source": [
    "`process_data` wraps all the above functions."
   ]
  },
  {
   "cell_type": "code",
   "execution_count": null,
   "id": "9fa92c3b-03e6-4c91-884e-6a2294fffcc1",
   "metadata": {},
   "outputs": [],
   "source": [
    "#| export\n",
    "\n",
    "@hydra.main(config_path=\"../../configs\", config_name=\"config\", version_base=\"1.2\")\n",
    "def process_data(cfg):\n",
    "    \"\"\"Download dataset, removes unsupported and corrupted images, and splits data into train, val and test.\n",
    "\n",
    "    Parameters\n",
    "    ----------\n",
    "    cfg : cfg (omegaconf.DictConfig):\n",
    "        Hydra Configuration\n",
    "    \"\"\"\n",
    "    download_configs()\n",
    "    \n",
    "    download_and_move_datasets()\n",
    "    move_to_processed()\n",
    "\n",
    "    print(\"\\n\\nFiles other than jpg and png.\\n\")\n",
    "    files, _ = find_filepaths('data/2_processed/')\n",
    "    print('\\n'.join(list(filter(lambda x: not x.endswith('jpg') and not x.endswith('png'), files))))\n",
    "\n",
    "    print(\"\\nFile types before cleaning:\")\n",
    "    get_value_counts(\"data/2_processed\")\n",
    "\n",
    "    clean_images(cfg)\n",
    "\n",
    "    print(\"\\nFile types after cleaning:\")\n",
    "    get_value_counts(\"data/2_processed\")\n",
    "\n",
    "    print(\"\\nCounts of classes:\\n\")\n",
    "    get_value_counts(\"data/2_processed\", column=\"class\")\n",
    "\n",
    "    sampling(cfg)\n"
   ]
  },
  {
   "cell_type": "code",
   "execution_count": null,
   "id": "b1c4d919-cadd-4522-98a1-58607b3c2502",
   "metadata": {},
   "outputs": [],
   "source": [
    "show_doc(process_data)"
   ]
  },
  {
   "cell_type": "code",
   "execution_count": null,
   "id": "70d699ea-fef1-416d-a6ae-60a47273bbc4",
   "metadata": {},
   "outputs": [],
   "source": [
    "#| hide\n",
    "\n",
    "%%bash\n",
    "rocks_process_data"
   ]
  },
  {
   "cell_type": "code",
   "execution_count": null,
   "id": "f98de636-e154-45ee-9bab-5c10c9d86caa",
   "metadata": {},
   "outputs": [],
   "source": [
    "#| hide\n",
    "from nbdev import nbdev_export\n",
    "nbdev_export()"
   ]
  },
  {
   "cell_type": "code",
   "execution_count": null,
   "id": "47adbe38-35cf-4535-a8b1-ae2a1ff14aa4",
   "metadata": {},
   "outputs": [],
   "source": []
  }
 ],
 "metadata": {
  "kernelspec": {
   "display_name": "Python 3 (ipykernel)",
   "language": "python",
   "name": "python3"
  }
 },
 "nbformat": 4,
 "nbformat_minor": 5
}
