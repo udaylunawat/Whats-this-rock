{
 "cells": [
  {
   "cell_type": "markdown",
   "metadata": {},
   "source": [
    "<a href=\"https://colab.research.google.com/github/udaylunawat/Whats-this-rock/blob/main/notebooks/04_sweeps.ipynb\" target=\"_parent\"><img src=\"https://colab.research.google.com/assets/colab-badge.svg\" alt=\"Open In Colab\"/></a>\n",
    "<!--- @wandbcode{intro-colab} -->"
   ]
  },
  {
   "cell_type": "markdown",
   "metadata": {},
   "source": [
    "# Hyperparameter Tuning using Wandb Sweeps\n",
    "# Wandb Sweeps Setup"
   ]
  },
  {
   "cell_type": "code",
   "execution_count": null,
   "metadata": {},
   "outputs": [],
   "source": [
    "#@title Wandb mode\n",
    "import os\n",
    "mode = 'online' #@param {type:\"string\"}\n",
    "os.environ['WANDB_MODE'] = mode\n",
    "\n",
    "if 'WANDB_API_KEY' not in os.environ:\n",
    "    if os.environ['WANDB_MODE'] == 'online':\n",
    "        from getpass import getpass\n",
    "        secret = getpass('Enter WandB API Key: ')\n",
    "        os.environ['WANDB_API_KEY'] = secret\n",
    "    else:\n",
    "        print(\"WandB Offline!\")"
   ]
  },
  {
   "cell_type": "code",
   "execution_count": null,
   "metadata": {},
   "outputs": [],
   "source": [
    "#@title Setup\n",
    "!rm -rf /content/Whats-this-rock/\n",
    "!git clone https://github.com/udaylunawat/Whats-this-rock.git\n",
    "# !git clone -b hydra https://github.com/udaylunawat/Whats-this-rock.git\n",
    "%cd /content/Whats-this-rock/\n",
    "\n",
    "!nvidia-smi\n",
    "!sh src/scripts/setup.sh"
   ]
  },
  {
   "cell_type": "code",
   "execution_count": null,
   "metadata": {},
   "outputs": [],
   "source": [
    "!git pull"
   ]
  },
  {
   "cell_type": "code",
   "execution_count": null,
   "metadata": {},
   "outputs": [],
   "source": [
    "%%writefile configs/sweep.yaml\n",
    "method: bayes\n",
    "metric:\n",
    "  goal: minimize\n",
    "  name: val_loss\n",
    "parameters:\n",
    "  wandb.use:\n",
    "    value: True\n",
    "  wandb.mode:\n",
    "    value: online\n",
    "  wandb.project:\n",
    "    value: Whats-this-rockv18\n",
    "  notes:\n",
    "    value: \"\"\n",
    "  seed:\n",
    "    values: [1]\n",
    "  lr:\n",
    "    values: [1e-2, 5e-3, 1e-3, 5e-4, 1e-4, 5e-5]\n",
    "  lr_decay_steps:\n",
    "    distribution: uniform\n",
    "    min: 10\n",
    "    max: 10000\n",
    "  lr_schedule:\n",
    "    values:\n",
    "      - cosine_decay_restarts\n",
    "  epochs:\n",
    "    value: 75\n",
    "  data_path:\n",
    "    value: data/4_tfds_dataset/\n",
    "  dataset_id:\n",
    "    values:\n",
    "      - [1, 2, 3, 4]\n",
    "  augmentation:\n",
    "    values: [kerascv]\n",
    "  class_weights:\n",
    "    values: [True, False]\n",
    "  optimizer:\n",
    "    values: [adam]\n",
    "  loss:\n",
    "    values: [categorical_crossentropy]\n",
    "  metrics:\n",
    "    value: [\"accuracy\"]\n",
    "  batch_size:\n",
    "    value: 64\n",
    "  num_classes:\n",
    "    value: 7\n",
    "  train_split:\n",
    "    values:\n",
    "      - 0.75\n",
    "  image_size:\n",
    "    value: 224\n",
    "  image_channels:\n",
    "    value: 3\n",
    "  sampling:\n",
    "    values: [None]\n",
    "  backbone:\n",
    "    values: [resnet]\n",
    "  use_pretrained_weights:\n",
    "    values: [True]\n",
    "  trainable:\n",
    "    values: [False, True]\n",
    "  last_layers:\n",
    "    distribution: int_uniform\n",
    "    min: 1\n",
    "    max: 50\n",
    "  custom_callback:\n",
    "    values: [False]\n",
    "  preprocess:\n",
    "    values: [True, False]\n",
    "  dropout_rate:\n",
    "    values: [0.3, 0.5]\n",
    "  monitor:\n",
    "    values: [\"val_loss\"]\n",
    "  earlystopping.use:\n",
    "    values: [False]\n",
    "  earlystopping.patience:\n",
    "    values: [10]\n",
    "  reduce_lr.use:\n",
    "    values: [False]\n",
    "  reduce_lr.factor:\n",
    "    values: [.9]\n",
    "  reduce_lr.patience:\n",
    "    values: [1]\n",
    "  reduce_lr.min_lr:\n",
    "    values: [1e-6]\n",
    "  save_model:\n",
    "    value: False\n",
    "\n",
    "program: src/models/train.py\n",
    "command:\n",
    "  - ${env}\n",
    "  - python\n",
    "  - ${program}\n",
    "  - ${args_no_hyphens}\n"
   ]
  },
  {
   "cell_type": "code",
   "execution_count": null,
   "metadata": {},
   "outputs": [],
   "source": [
    "!wandb sweep \\\n",
    "    --project Whats-this-rockv17 \\\n",
    "    --entity udaylunawat \\\n",
    "    configs/sweep.yaml"
   ]
  },
  {
   "cell_type": "code",
   "execution_count": null,
   "metadata": {},
   "outputs": [],
   "source": [
    "!wandb agent udaylunawat/Whats-this-rockv17/xrjlfpy0"
   ]
  },
  {
   "cell_type": "code",
   "execution_count": null,
   "metadata": {},
   "outputs": [],
   "source": []
  }
 ],
 "metadata": {
  "kernelspec": {
   "display_name": "Python 3 (ipykernel)",
   "language": "python",
   "name": "python3"
  }
 },
 "nbformat": 4,
 "nbformat_minor": 4
}
