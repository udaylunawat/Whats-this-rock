{
 "cells": [
  {
   "cell_type": "code",
   "execution_count": null,
   "id": "5bd0cded-4f5d-4854-af40-920b7af64e18",
   "metadata": {},
   "outputs": [],
   "source": [
    "#| default_exp data.download"
   ]
  },
  {
   "cell_type": "markdown",
   "id": "6c5cc81e-dd72-40e1-a3bd-67f221f251a4",
   "metadata": {},
   "source": [
    "# Downloading Data\n",
    "\n",
    "> Downloading 4 datasets."
   ]
  },
  {
   "cell_type": "code",
   "execution_count": null,
   "id": "0c05d28b-714a-4444-a6cf-b3683887db48",
   "metadata": {},
   "outputs": [],
   "source": [
    "#| export\n",
    "\n",
    "import os\n",
    "from rocks_bot.data.utils import timer_func"
   ]
  },
  {
   "cell_type": "code",
   "execution_count": null,
   "id": "8577e580-8d97-4e09-b6aa-6274a685f13b",
   "metadata": {},
   "outputs": [],
   "source": [
    "#| export\n",
    "\n",
    "@timer_func\n",
    "def get_data(dataset_id: int):\n",
    "    \"\"\"Download the dataset with dataset_id.\n",
    "\n",
    "    Parameters\n",
    "    ----------\n",
    "    dataset_id : int\n",
    "        Dataset number\n",
    "    \"\"\"\n",
    "    data_dict = {\n",
    "        1: \"src/scripts/dataset1.sh\",\n",
    "        2: \"src/scripts/dataset2.sh\",\n",
    "        3: \"src/scripts/dataset3.sh\",\n",
    "        4: \"src/scripts/dataset4.sh\",\n",
    "    }\n",
    "    if not os.path.exists(os.path.join(\"data\", \"1_extracted\", f\"dataset{dataset_id}\")):\n",
    "        os.system(f\"sh {data_dict[dataset_id]}\")\n"
   ]
  },
  {
   "cell_type": "markdown",
   "id": "de43fede-5ec4-4a25-8fe7-579c105e6238",
   "metadata": {},
   "source": [
    "## Downloading datasets\n",
    "### Dataset 1\n",
    "\n",
    "```bash\n",
    "kaggle datasets download salmaneunus/rock-classification --path data/0_raw/\n",
    "unzip -qn data/0_raw/rock-classification.zip -d data/1_extracted/\n",
    "mv -vn data/1_extracted/Dataset data/1_extracted/dataset1\n",
    "```"
   ]
  },
  {
   "cell_type": "markdown",
   "id": "317a4602-0eb2-4b2c-aabb-3e389e5a1535",
   "metadata": {},
   "source": [
    "### Dataset 2\n",
    "\n",
    "```bash\n",
    "kaggle datasets download mahmoudalforawi/igneous-metamorphic-sedimentary-rocks-and-minerals --path data/0_raw/\n",
    "unzip -qn data/0_raw/igneous-metamorphic-sedimentary-rocks-and-minerals.zip -d data/1_extracted/\n",
    "mv data/1_extracted/Rock_Dataset data/1_extracted/dataset2\n",
    "\n",
    "rm -rf data/1_extracted/dataset2/minerals\n",
    "```"
   ]
  },
  {
   "cell_type": "markdown",
   "id": "9b24144e-a6e5-4f8d-8f1e-77252ca759e8",
   "metadata": {},
   "source": [
    "### Dataset 3\n",
    "\n",
    "```bash\n",
    "wget --quiet -O data/0_raw/dataset3.zip https://github.com/SmartPracticeschool/llSPS-INT-3797-Rock-identification-using-deep-convolution-neural-network/raw/master/dataset.zip\n",
    "unzip -qn data/0_raw/dataset3.zip -d data/1_extracted/\n",
    "mv data/1_extracted/dataset data/1_extracted/dataset3\n",
    "```"
   ]
  },
  {
   "cell_type": "markdown",
   "id": "bdf02ac5-36b3-4bfe-8502-221401268c2b",
   "metadata": {},
   "source": [
    "### Dataset 4\n",
    "```bash\n",
    "kaggle datasets download neelgajare/rocks-dataset --path data/0_raw/\n",
    "unzip -qn data/0_raw/rocks-dataset.zip -d data/1_extracted/\n",
    "mkdir -p data/1_extracted/dataset4/rock_classes/\n",
    "mv -n data/1_extracted/Rocks/* data/1_extracted/dataset4/\n",
    "rm -rf data/1_extracted/Rocks\n",
    "```"
   ]
  },
  {
   "cell_type": "code",
   "execution_count": null,
   "id": "eba6f618-b807-4361-b943-3223f1ae5047",
   "metadata": {},
   "outputs": [],
   "source": [
    "#| hide\n",
    "from nbdev import nbdev_export\n",
    "nbdev_export()"
   ]
  }
 ],
 "metadata": {
  "kernelspec": {
   "display_name": "Python 3.10.4 ('rocks')",
   "language": "python",
   "name": "python3"
  }
 },
 "nbformat": 4,
 "nbformat_minor": 5
}
