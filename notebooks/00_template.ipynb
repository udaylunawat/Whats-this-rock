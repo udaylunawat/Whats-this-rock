{
 "cells": [
  {
   "cell_type": "raw",
   "id": "efbc93eb-af49-4094-afb8-bb0004e7d5e1",
   "metadata": {},
   "source": [
    "---\n",
    "execute:\n",
    "  eval: false\n",
    "  skip_showdoc: true\n",
    "---"
   ]
  },
  {
   "cell_type": "code",
   "execution_count": null,
   "id": "20d334f9-d3e5-4134-8779-e09850f10dfd",
   "metadata": {},
   "outputs": [],
   "source": [
    "#| default_exp temp"
   ]
  },
  {
   "cell_type": "markdown",
   "id": "431a9e82-dd19-4bba-8eae-6a36dbb98b30",
   "metadata": {},
   "source": [
    "# 0) Template\n",
    "> description"
   ]
  },
  {
   "cell_type": "code",
   "execution_count": null,
   "id": "4b3e28b6-f95b-482a-941e-b2c23d6fc834",
   "metadata": {},
   "outputs": [],
   "source": [
    "#| hide\n",
    "#| eval: false\n",
    "\n",
    "%reload_ext autoreload\n",
    "%autoreload 2\n",
    "%matplotlib inline"
   ]
  },
  {
   "cell_type": "code",
   "execution_count": null,
   "id": "4a23e3d6-66a6-494d-92b5-7534e7ac9ee6",
   "metadata": {},
   "outputs": [],
   "source": [
    "#| hide\n",
    "\n",
    "import os"
   ]
  },
  {
   "cell_type": "code",
   "execution_count": null,
   "id": "26263330-06b0-440d-bd5d-749fb19015ed",
   "metadata": {},
   "outputs": [],
   "source": [
    "#| hide\n",
    "\n",
    "os.chdir('../')"
   ]
  },
  {
   "cell_type": "code",
   "execution_count": null,
   "id": "c309da1f-9382-405a-8011-2907d4e5b9f6",
   "metadata": {},
   "outputs": [],
   "source": []
  },
  {
   "cell_type": "code",
   "execution_count": null,
   "id": "5388963a-a4d5-4af8-8fca-10dd78ce7d3d",
   "metadata": {},
   "outputs": [],
   "source": [
    "#| hide\n",
    "\n",
    "def foo():\n",
    "    pass"
   ]
  },
  {
   "cell_type": "code",
   "execution_count": null,
   "id": "0a739595-5687-439c-8487-bb8dd0d403d6",
   "metadata": {},
   "outputs": [],
   "source": [
    "#| hide\n",
    "from nbdev import nbdev_export\n",
    "nbdev_export()"
   ]
  }
 ],
 "metadata": {
  "kernelspec": {
   "display_name": "Python 3 (ipykernel)",
   "language": "python",
   "name": "python3"
  }
 },
 "nbformat": 4,
 "nbformat_minor": 5
}
