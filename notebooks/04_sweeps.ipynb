{
  "cells": [
    {
      "cell_type": "markdown",
      "source": [
        "# Sweep Setup"
      ],
      "metadata": {
        "id": "HxNWTfPZ6jQT"
      }
    },
    {
      "cell_type": "code",
      "execution_count": null,
      "metadata": {
        "id": "SVvEnjPkWlXT",
        "cellView": "form"
      },
      "outputs": [],
      "source": [
        "#@title Wandb mode\n",
        "import os\n",
        "mode = 'online' #@param {type:\"string\"}\n",
        "os.environ['WANDB_MODE'] = mode\n",
        "\n",
        "if 'WANDB_API_KEY' not in os.environ:\n",
        "    if os.environ['WANDB_MODE'] == 'online':\n",
        "        from getpass import getpass\n",
        "        secret = getpass('Enter WandB API Key: ')\n",
        "        os.environ['WANDB_API_KEY'] = secret\n",
        "    else:\n",
        "        print(\"WandB Offline!\")"
      ]
    },
    {
      "cell_type": "code",
      "execution_count": null,
      "metadata": {
        "id": "5_Y91hc9X5lP",
        "cellView": "form"
      },
      "outputs": [],
      "source": [
        "#@title Setup\n",
        "!rm -rf /content/Whats-this-rock/\n",
        "!git clone https://github.com/udaylunawat/Whats-this-rock.git\n",
        "# !git clone -b hydra https://github.com/udaylunawat/Whats-this-rock.git\n",
        "%cd /content/Whats-this-rock/\n",
        "\n",
        "!nvidia-smi\n",
        "!sh src/scripts/setup.sh"
      ]
    },
    {
      "cell_type": "code",
      "source": [
        "!git pull"
      ],
      "metadata": {
        "id": "NeoCnxgbUHc4"
      },
      "execution_count": null,
      "outputs": []
    },
    {
      "cell_type": "code",
      "source": [
        "%%writefile configs/sweep.yaml\n",
        "method: bayes\n",
        "metric:\n",
        "  goal: minimize\n",
        "  name: val_loss\n",
        "parameters:\n",
        "  notes:\n",
        "    value: \"\"\n",
        "  seed:\n",
        "    values: [1]\n",
        "  lr:\n",
        "    values: [1e-2, 1e-3, 1e-4, 1e-5]\n",
        "  lr_decay_steps:\n",
        "    values: [10, 20, 50, 100, 300, 500, 1000, 3000]\n",
        "  lr_schedule:\n",
        "    values:\n",
        "      - cosine_decay_restarts\n",
        "  epochs:\n",
        "    value: 150\n",
        "  augmentation:\n",
        "    values: [kerascv, True]\n",
        "  class_weights:\n",
        "    value: True\n",
        "  optimizer:\n",
        "    values: [adam]\n",
        "  loss:\n",
        "    values: [mean_squared_error, categorical_crossentropy]\n",
        "  metrics:\n",
        "    value: [\"accuracy\"]\n",
        "  batch_size:\n",
        "    value: 64\n",
        "  num_classes:\n",
        "    value: 7\n",
        "  train_split:\n",
        "    values:\n",
        "      - 0.75\n",
        "  data_path:\n",
        "    value: data/4_tfds_dataset/\n",
        "  wandb.use:\n",
        "    value: True\n",
        "  wandb.mode:\n",
        "    value: online\n",
        "  wandb.project:\n",
        "    value: Whats-this-rockv17\n",
        "  dataset_id:\n",
        "    values:\n",
        "      - [1,2,3,4]\n",
        "  image_size:\n",
        "    value: 224\n",
        "  image_channels:\n",
        "    value: 3\n",
        "  sampling:\n",
        "    values: [None]\n",
        "  backbone:\n",
        "    values: [resnet]\n",
        "  use_pretrained_weights:\n",
        "    values: [True]\n",
        "  trainable:\n",
        "    values: [False]\n",
        "  last_layers:\n",
        "    values: [30]\n",
        "  custom_callback:\n",
        "    values: [False]\n",
        "  preprocess:\n",
        "    value: True\n",
        "  dropout_rate:\n",
        "    values: [0.3]\n",
        "  monitor:\n",
        "    values: [\"val_loss\"]\n",
        "  earlystopping.use:\n",
        "    values: [False]\n",
        "  earlystopping.patience:\n",
        "    values: [10]\n",
        "  reduce_lr.use:\n",
        "    values: [False]\n",
        "  reduce_lr.factor:\n",
        "    values: [.9]\n",
        "  reduce_lr.patience:\n",
        "    values: [1]\n",
        "  reduce_lr.min_lr:\n",
        "    values: [1e-5, 1e-6]\n",
        "  save_model:\n",
        "    value: False\n",
        "\n",
        "program: src/models/train.py\n",
        "command:\n",
        "  - ${env}\n",
        "  - python\n",
        "  - ${program}\n",
        "  - ${args_no_hyphens}\n"
      ],
      "metadata": {
        "id": "sePWX-1lvV21"
      },
      "execution_count": null,
      "outputs": []
    },
    {
      "cell_type": "code",
      "source": [
        "# !wandb sweep \\\n",
        "#     --project Whats-this-rockv17 \\\n",
        "#     --entity udaylunawat \\\n",
        "#     configs/sweep.yaml"
      ],
      "metadata": {
        "id": "c3eJETPZT6B0"
      },
      "execution_count": null,
      "outputs": []
    },
    {
      "cell_type": "code",
      "execution_count": null,
      "metadata": {
        "id": "zF96eN43YF-x"
      },
      "outputs": [],
      "source": [
        "!wandb agent udaylunawat/Whats-this-rockv17/xrjlfpy0"
      ]
    },
    {
      "cell_type": "code",
      "source": [],
      "metadata": {
        "id": "42x_8RRYqDn9"
      },
      "execution_count": null,
      "outputs": []
    }
  ],
  "metadata": {
    "accelerator": "GPU",
    "colab": {
      "collapsed_sections": [],
      "provenance": []
    },
    "gpuClass": "standard",
    "kernelspec": {
      "display_name": "Python 3",
      "name": "python3"
    },
    "language_info": {
      "name": "python"
    }
  },
  "nbformat": 4,
  "nbformat_minor": 0
}