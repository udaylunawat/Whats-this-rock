{
 "cells": [
  {
   "cell_type": "markdown",
   "metadata": {
    "id": "7I9u5GhAs_DT"
   },
   "source": [
    "<a href=\"https://colab.research.google.com/github/udaylunawat/Whats-this-rock/blob/main/notebooks/03_training.ipynb\" target=\"_parent\"><img src=\"https://colab.research.google.com/assets/colab-badge.svg\" alt=\"Open In Colab\"/></a>\n",
    "<!--- @wandbcode{intro-colab} -->"
   ]
  },
  {
   "cell_type": "markdown",
   "metadata": {
    "id": "iUSuNjlQZSi-"
   },
   "source": [
    "# Clone Repo"
   ]
  },
  {
   "cell_type": "code",
   "execution_count": null,
   "metadata": {
    "colab": {
     "base_uri": "https://localhost:8080/"
    },
    "id": "J3CTmNjsIAIl",
    "outputId": "294aca1c-31c5-46ae-ce4b-d30e77a06a1d"
   },
   "outputs": [
    {
     "name": "stdout",
     "output_type": "stream",
     "text": [
      "/content\n",
      "Cloning into 'Whats-this-rock'...\n",
      "remote: Enumerating objects: 2617, done.\u001b[K\n",
      "remote: Counting objects: 100% (857/857), done.\u001b[K\n",
      "remote: Compressing objects: 100% (374/374), done.\u001b[K\n",
      "remote: Total 2617 (delta 480), reused 698 (delta 477), pack-reused 1760\u001b[K\n",
      "Receiving objects: 100% (2617/2617), 6.63 MiB | 23.72 MiB/s, done.\n",
      "Resolving deltas: 100% (1683/1683), done.\n"
     ]
    }
   ],
   "source": [
    "%cd /content/\n",
    "!rm -rf /content/Whats-this-rock/\n",
    "!git clone https://github.com/udaylunawat/Whats-this-rock.git\n",
    "# !git clone -b hydra https://github.com/udaylunawat/Whats-this-rock.git"
   ]
  },
  {
   "cell_type": "code",
   "execution_count": null,
   "metadata": {
    "colab": {
     "base_uri": "https://localhost:8080/"
    },
    "id": "R4io6zNMbjuC",
    "outputId": "22c990e1-7199-4ab3-e1ae-6bf56090969a"
   },
   "outputs": [
    {
     "name": "stdout",
     "output_type": "stream",
     "text": [
      "/content/Whats-this-rock\n"
     ]
    }
   ],
   "source": [
    "%cd /content/Whats-this-rock/"
   ]
  },
  {
   "cell_type": "code",
   "execution_count": null,
   "metadata": {
    "colab": {
     "base_uri": "https://localhost:8080/"
    },
    "id": "YzowJ1Q7bicQ",
    "outputId": "5e5afda1-782e-4739-b2d2-aaced276d5b6"
   },
   "outputs": [
    {
     "name": "stdout",
     "output_type": "stream",
     "text": [
      "Mon Oct 17 14:37:59 2022       \n",
      "+-----------------------------------------------------------------------------+\n",
      "| NVIDIA-SMI 460.32.03    Driver Version: 460.32.03    CUDA Version: 11.2     |\n",
      "|-------------------------------+----------------------+----------------------+\n",
      "| GPU  Name        Persistence-M| Bus-Id        Disp.A | Volatile Uncorr. ECC |\n",
      "| Fan  Temp  Perf  Pwr:Usage/Cap|         Memory-Usage | GPU-Util  Compute M. |\n",
      "|                               |                      |               MIG M. |\n",
      "|===============================+======================+======================|\n",
      "|   0  Tesla T4            Off  | 00000000:00:04.0 Off |                    0 |\n",
      "| N/A   63C    P8    11W /  70W |      0MiB / 15109MiB |      0%      Default |\n",
      "|                               |                      |                  N/A |\n",
      "+-------------------------------+----------------------+----------------------+\n",
      "                                                                               \n",
      "+-----------------------------------------------------------------------------+\n",
      "| Processes:                                                                  |\n",
      "|  GPU   GI   CI        PID   Type   Process name                  GPU Memory |\n",
      "|        ID   ID                                                   Usage      |\n",
      "|=============================================================================|\n",
      "|  No running processes found                                                 |\n",
      "+-----------------------------------------------------------------------------+\n"
     ]
    }
   ],
   "source": [
    "!nvidia-smi"
   ]
  },
  {
   "cell_type": "markdown",
   "metadata": {
    "id": "H5UlUGLqCDgR"
   },
   "source": [
    "## 🪄 Login to WandB"
   ]
  },
  {
   "cell_type": "code",
   "execution_count": null,
   "metadata": {
    "colab": {
     "base_uri": "https://localhost:8080/"
    },
    "id": "pYQG09V4qSUj",
    "outputId": "bfd57b39-8f49-4ae1-c2b4-ffed13bdea5f"
   },
   "outputs": [
    {
     "name": "stdout",
     "output_type": "stream",
     "text": [
      "WandB Offline!\n"
     ]
    }
   ],
   "source": [
    "import os\n",
    "os.environ['WANDB_MODE'] = 'offline' # offline\n",
    "\n",
    "if 'WANDB_API_KEY' not in os.environ:\n",
    "    if os.environ['WANDB_MODE'] == 'online':\n",
    "        from getpass import getpass\n",
    "        secret = getpass('Enter WandB API Key: ')\n",
    "        os.environ['WANDB_API_KEY'] = secret\n",
    "    else:\n",
    "        print(\"WandB Offline!\")"
   ]
  },
  {
   "cell_type": "markdown",
   "metadata": {
    "id": "RSk5wNo6SAS0"
   },
   "source": [
    "# Training and evaluating Model"
   ]
  },
  {
   "cell_type": "code",
   "execution_count": null,
   "metadata": {
    "colab": {
     "base_uri": "https://localhost:8080/"
    },
    "id": "qY8_QWOvmXZk",
    "outputId": "518eb3f9-4ab9-49fe-9e05-fe6fbad0e6bf"
   },
   "outputs": [
    {
     "name": "stdout",
     "output_type": "stream",
     "text": [
      "Updating f96a80a..e39acc4\n",
      "Fast-forward\n",
      " configs/config.yaml        | 14 \u001b[32m+++++++++\u001b[m\u001b[31m-----\u001b[m\n",
      " requirements-dev.txt       |  2 \u001b[32m+\u001b[m\u001b[31m-\u001b[m\n",
      " requirements.txt           |  2 \u001b[32m+\u001b[m\u001b[31m-\u001b[m\n",
      " src/callbacks/callbacks.py | 33 \u001b[32m+++++++++++++++++\u001b[m\u001b[31m----------------\u001b[m\n",
      " src/models/train.py        | 17 \u001b[32m+++++++++++\u001b[m\u001b[31m------\u001b[m\n",
      " src/models/utils.py        | 37 \u001b[32m+++++++++++++++++++++++++++++\u001b[m\u001b[31m--------\u001b[m\n",
      " src/scripts/setup.sh       |  2 \u001b[32m+\u001b[m\u001b[31m-\u001b[m\n",
      " 7 files changed, 69 insertions(+), 38 deletions(-)\n"
     ]
    }
   ],
   "source": [
    "!git pull"
   ]
  },
  {
   "cell_type": "code",
   "execution_count": null,
   "metadata": {
    "colab": {
     "base_uri": "https://localhost:8080/"
    },
    "id": "apf7XZRZZN6W",
    "outputId": "def6ee42-c7ca-495c-e861-7f29b6100343"
   },
   "outputs": [
    {
     "name": "stdout",
     "output_type": "stream",
     "text": [
      "libcudnn8 is already the newest version (8.1.1.33-1+cuda11.2).\n",
      "The following package was automatically installed and is no longer required:\n",
      "  libnvidia-common-460\n",
      "Use 'apt autoremove' to remove it.\n",
      "0 upgraded, 0 newly installed, 0 to remove and 11 not upgraded.\n",
      "Looking in indexes: https://pypi.org/simple, https://us-python.pkg.dev/colab-wheels/public/simple/\n",
      "Obtaining file:///content/Whats-this-rock (from -r requirements-dev.txt (line 1))\n",
      "Requirement already satisfied: scikit-learn in /usr/local/lib/python3.7/dist-packages (from -r requirements-dev.txt (line 3)) (1.0.2)\n",
      "Requirement already satisfied: opencv-python in /usr/local/lib/python3.7/dist-packages (from -r requirements-dev.txt (line 4)) (4.6.0.66)\n",
      "Requirement already satisfied: kaggle in /usr/local/lib/python3.7/dist-packages (from -r requirements-dev.txt (line 5)) (1.5.12)\n",
      "Requirement already satisfied: pandas in /usr/local/lib/python3.7/dist-packages (from -r requirements-dev.txt (line 6)) (1.3.5)\n",
      "Requirement already satisfied: numpy in /usr/local/lib/python3.7/dist-packages (from -r requirements-dev.txt (line 7)) (1.21.6)\n",
      "Requirement already satisfied: tensorflow in /usr/local/lib/python3.7/dist-packages (from -r requirements-dev.txt (line 8)) (2.9.2)\n",
      "Collecting tensorflow-addons\n",
      "  Downloading tensorflow_addons-0.18.0-cp37-cp37m-manylinux_2_17_x86_64.manylinux2014_x86_64.whl (1.1 MB)\n",
      "\u001b[K     |████████████████████████████████| 1.1 MB 24.8 MB/s \n",
      "\u001b[?25hCollecting keras-cv\n",
      "  Downloading keras_cv-0.3.4-py3-none-any.whl (394 kB)\n",
      "\u001b[K     |████████████████████████████████| 394 kB 69.6 MB/s \n",
      "\u001b[?25hCollecting wandb\n",
      "  Downloading wandb-0.13.4-py2.py3-none-any.whl (1.9 MB)\n",
      "\u001b[K     |████████████████████████████████| 1.9 MB 56.8 MB/s \n",
      "\u001b[?25hCollecting split-folders\n",
      "  Downloading split_folders-0.5.1-py3-none-any.whl (8.4 kB)\n",
      "Collecting hydra-core\n",
      "  Downloading hydra_core-1.2.0-py3-none-any.whl (151 kB)\n",
      "\u001b[K     |████████████████████████████████| 151 kB 72.8 MB/s \n",
      "\u001b[?25hRequirement already satisfied: matplotlib in /usr/local/lib/python3.7/dist-packages (from -r requirements-dev.txt (line 14)) (3.2.2)\n",
      "Requirement already satisfied: seaborn in /usr/local/lib/python3.7/dist-packages (from -r requirements-dev.txt (line 15)) (0.11.2)\n",
      "Requirement already satisfied: plotly in /usr/local/lib/python3.7/dist-packages (from -r requirements-dev.txt (line 16)) (5.5.0)\n",
      "Requirement already satisfied: scipy>=1.1.0 in /usr/local/lib/python3.7/dist-packages (from scikit-learn->-r requirements-dev.txt (line 3)) (1.7.3)\n",
      "Requirement already satisfied: threadpoolctl>=2.0.0 in /usr/local/lib/python3.7/dist-packages (from scikit-learn->-r requirements-dev.txt (line 3)) (3.1.0)\n",
      "Requirement already satisfied: joblib>=0.11 in /usr/local/lib/python3.7/dist-packages (from scikit-learn->-r requirements-dev.txt (line 3)) (1.2.0)\n",
      "Requirement already satisfied: six>=1.10 in /usr/local/lib/python3.7/dist-packages (from kaggle->-r requirements-dev.txt (line 5)) (1.15.0)\n",
      "Requirement already satisfied: requests in /usr/local/lib/python3.7/dist-packages (from kaggle->-r requirements-dev.txt (line 5)) (2.23.0)\n",
      "Requirement already satisfied: python-dateutil in /usr/local/lib/python3.7/dist-packages (from kaggle->-r requirements-dev.txt (line 5)) (2.8.2)\n",
      "Requirement already satisfied: certifi in /usr/local/lib/python3.7/dist-packages (from kaggle->-r requirements-dev.txt (line 5)) (2022.9.24)\n",
      "Requirement already satisfied: urllib3 in /usr/local/lib/python3.7/dist-packages (from kaggle->-r requirements-dev.txt (line 5)) (1.24.3)\n",
      "Requirement already satisfied: tqdm in /usr/local/lib/python3.7/dist-packages (from kaggle->-r requirements-dev.txt (line 5)) (4.64.1)\n",
      "Requirement already satisfied: python-slugify in /usr/local/lib/python3.7/dist-packages (from kaggle->-r requirements-dev.txt (line 5)) (6.1.2)\n",
      "Requirement already satisfied: pytz>=2017.3 in /usr/local/lib/python3.7/dist-packages (from pandas->-r requirements-dev.txt (line 6)) (2022.4)\n",
      "Requirement already satisfied: packaging in /usr/local/lib/python3.7/dist-packages (from tensorflow->-r requirements-dev.txt (line 8)) (21.3)\n",
      "Requirement already satisfied: protobuf<3.20,>=3.9.2 in /usr/local/lib/python3.7/dist-packages (from tensorflow->-r requirements-dev.txt (line 8)) (3.17.3)\n",
      "Requirement already satisfied: google-pasta>=0.1.1 in /usr/local/lib/python3.7/dist-packages (from tensorflow->-r requirements-dev.txt (line 8)) (0.2.0)\n",
      "Requirement already satisfied: opt-einsum>=2.3.2 in /usr/local/lib/python3.7/dist-packages (from tensorflow->-r requirements-dev.txt (line 8)) (3.3.0)\n",
      "Requirement already satisfied: termcolor>=1.1.0 in /usr/local/lib/python3.7/dist-packages (from tensorflow->-r requirements-dev.txt (line 8)) (2.0.1)\n",
      "Requirement already satisfied: keras-preprocessing>=1.1.1 in /usr/local/lib/python3.7/dist-packages (from tensorflow->-r requirements-dev.txt (line 8)) (1.1.2)\n",
      "Requirement already satisfied: astunparse>=1.6.0 in /usr/local/lib/python3.7/dist-packages (from tensorflow->-r requirements-dev.txt (line 8)) (1.6.3)\n",
      "Requirement already satisfied: tensorflow-io-gcs-filesystem>=0.23.1 in /usr/local/lib/python3.7/dist-packages (from tensorflow->-r requirements-dev.txt (line 8)) (0.27.0)\n",
      "Requirement already satisfied: grpcio<2.0,>=1.24.3 in /usr/local/lib/python3.7/dist-packages (from tensorflow->-r requirements-dev.txt (line 8)) (1.49.1)\n",
      "Requirement already satisfied: wrapt>=1.11.0 in /usr/local/lib/python3.7/dist-packages (from tensorflow->-r requirements-dev.txt (line 8)) (1.14.1)\n",
      "Requirement already satisfied: h5py>=2.9.0 in /usr/local/lib/python3.7/dist-packages (from tensorflow->-r requirements-dev.txt (line 8)) (3.1.0)\n",
      "Requirement already satisfied: tensorflow-estimator<2.10.0,>=2.9.0rc0 in /usr/local/lib/python3.7/dist-packages (from tensorflow->-r requirements-dev.txt (line 8)) (2.9.0)\n",
      "Requirement already satisfied: keras<2.10.0,>=2.9.0rc0 in /usr/local/lib/python3.7/dist-packages (from tensorflow->-r requirements-dev.txt (line 8)) (2.9.0)\n",
      "Requirement already satisfied: absl-py>=1.0.0 in /usr/local/lib/python3.7/dist-packages (from tensorflow->-r requirements-dev.txt (line 8)) (1.2.0)\n",
      "Requirement already satisfied: typing-extensions>=3.6.6 in /usr/local/lib/python3.7/dist-packages (from tensorflow->-r requirements-dev.txt (line 8)) (4.1.1)\n",
      "Requirement already satisfied: flatbuffers<2,>=1.12 in /usr/local/lib/python3.7/dist-packages (from tensorflow->-r requirements-dev.txt (line 8)) (1.12)\n",
      "Requirement already satisfied: tensorboard<2.10,>=2.9 in /usr/local/lib/python3.7/dist-packages (from tensorflow->-r requirements-dev.txt (line 8)) (2.9.1)\n",
      "Requirement already satisfied: libclang>=13.0.0 in /usr/local/lib/python3.7/dist-packages (from tensorflow->-r requirements-dev.txt (line 8)) (14.0.6)\n",
      "Requirement already satisfied: gast<=0.4.0,>=0.2.1 in /usr/local/lib/python3.7/dist-packages (from tensorflow->-r requirements-dev.txt (line 8)) (0.4.0)\n",
      "Requirement already satisfied: setuptools in /usr/local/lib/python3.7/dist-packages (from tensorflow->-r requirements-dev.txt (line 8)) (57.4.0)\n",
      "Requirement already satisfied: wheel<1.0,>=0.23.0 in /usr/local/lib/python3.7/dist-packages (from astunparse>=1.6.0->tensorflow->-r requirements-dev.txt (line 8)) (0.37.1)\n",
      "Requirement already satisfied: cached-property in /usr/local/lib/python3.7/dist-packages (from h5py>=2.9.0->tensorflow->-r requirements-dev.txt (line 8)) (1.5.2)\n",
      "Requirement already satisfied: markdown>=2.6.8 in /usr/local/lib/python3.7/dist-packages (from tensorboard<2.10,>=2.9->tensorflow->-r requirements-dev.txt (line 8)) (3.4.1)\n",
      "Requirement already satisfied: werkzeug>=1.0.1 in /usr/local/lib/python3.7/dist-packages (from tensorboard<2.10,>=2.9->tensorflow->-r requirements-dev.txt (line 8)) (1.0.1)\n",
      "Requirement already satisfied: tensorboard-plugin-wit>=1.6.0 in /usr/local/lib/python3.7/dist-packages (from tensorboard<2.10,>=2.9->tensorflow->-r requirements-dev.txt (line 8)) (1.8.1)\n",
      "Requirement already satisfied: google-auth-oauthlib<0.5,>=0.4.1 in /usr/local/lib/python3.7/dist-packages (from tensorboard<2.10,>=2.9->tensorflow->-r requirements-dev.txt (line 8)) (0.4.6)\n",
      "Requirement already satisfied: tensorboard-data-server<0.7.0,>=0.6.0 in /usr/local/lib/python3.7/dist-packages (from tensorboard<2.10,>=2.9->tensorflow->-r requirements-dev.txt (line 8)) (0.6.1)\n",
      "Requirement already satisfied: google-auth<3,>=1.6.3 in /usr/local/lib/python3.7/dist-packages (from tensorboard<2.10,>=2.9->tensorflow->-r requirements-dev.txt (line 8)) (1.35.0)\n",
      "Requirement already satisfied: rsa<5,>=3.1.4 in /usr/local/lib/python3.7/dist-packages (from google-auth<3,>=1.6.3->tensorboard<2.10,>=2.9->tensorflow->-r requirements-dev.txt (line 8)) (4.9)\n",
      "Requirement already satisfied: pyasn1-modules>=0.2.1 in /usr/local/lib/python3.7/dist-packages (from google-auth<3,>=1.6.3->tensorboard<2.10,>=2.9->tensorflow->-r requirements-dev.txt (line 8)) (0.2.8)\n",
      "Requirement already satisfied: cachetools<5.0,>=2.0.0 in /usr/local/lib/python3.7/dist-packages (from google-auth<3,>=1.6.3->tensorboard<2.10,>=2.9->tensorflow->-r requirements-dev.txt (line 8)) (4.2.4)\n",
      "Requirement already satisfied: requests-oauthlib>=0.7.0 in /usr/local/lib/python3.7/dist-packages (from google-auth-oauthlib<0.5,>=0.4.1->tensorboard<2.10,>=2.9->tensorflow->-r requirements-dev.txt (line 8)) (1.3.1)\n",
      "Requirement already satisfied: importlib-metadata>=4.4 in /usr/local/lib/python3.7/dist-packages (from markdown>=2.6.8->tensorboard<2.10,>=2.9->tensorflow->-r requirements-dev.txt (line 8)) (5.0.0)\n",
      "Requirement already satisfied: zipp>=0.5 in /usr/local/lib/python3.7/dist-packages (from importlib-metadata>=4.4->markdown>=2.6.8->tensorboard<2.10,>=2.9->tensorflow->-r requirements-dev.txt (line 8)) (3.9.0)\n",
      "Requirement already satisfied: pyasn1<0.5.0,>=0.4.6 in /usr/local/lib/python3.7/dist-packages (from pyasn1-modules>=0.2.1->google-auth<3,>=1.6.3->tensorboard<2.10,>=2.9->tensorflow->-r requirements-dev.txt (line 8)) (0.4.8)\n",
      "Requirement already satisfied: idna<3,>=2.5 in /usr/local/lib/python3.7/dist-packages (from requests->kaggle->-r requirements-dev.txt (line 5)) (2.10)\n",
      "Requirement already satisfied: chardet<4,>=3.0.2 in /usr/local/lib/python3.7/dist-packages (from requests->kaggle->-r requirements-dev.txt (line 5)) (3.0.4)\n",
      "Requirement already satisfied: oauthlib>=3.0.0 in /usr/local/lib/python3.7/dist-packages (from requests-oauthlib>=0.7.0->google-auth-oauthlib<0.5,>=0.4.1->tensorboard<2.10,>=2.9->tensorflow->-r requirements-dev.txt (line 8)) (3.2.1)\n",
      "Requirement already satisfied: typeguard>=2.7 in /usr/local/lib/python3.7/dist-packages (from tensorflow-addons->-r requirements-dev.txt (line 9)) (2.7.1)\n",
      "Requirement already satisfied: regex in /usr/local/lib/python3.7/dist-packages (from keras-cv->-r requirements-dev.txt (line 10)) (2022.6.2)\n",
      "Requirement already satisfied: PyYAML in /usr/local/lib/python3.7/dist-packages (from wandb->-r requirements-dev.txt (line 11)) (6.0)\n",
      "Collecting docker-pycreds>=0.4.0\n",
      "  Downloading docker_pycreds-0.4.0-py2.py3-none-any.whl (9.0 kB)\n",
      "Collecting shortuuid>=0.5.0\n",
      "  Downloading shortuuid-1.0.9-py3-none-any.whl (9.4 kB)\n",
      "Requirement already satisfied: promise<3,>=2.0 in /usr/local/lib/python3.7/dist-packages (from wandb->-r requirements-dev.txt (line 11)) (2.3)\n",
      "Collecting pathtools\n",
      "  Downloading pathtools-0.1.2.tar.gz (11 kB)\n",
      "Collecting setproctitle\n",
      "  Downloading setproctitle-1.3.2-cp37-cp37m-manylinux_2_5_x86_64.manylinux1_x86_64.manylinux_2_17_x86_64.manylinux2014_x86_64.whl (30 kB)\n",
      "Requirement already satisfied: Click!=8.0.0,>=7.0 in /usr/local/lib/python3.7/dist-packages (from wandb->-r requirements-dev.txt (line 11)) (7.1.2)\n",
      "Collecting GitPython>=1.0.0\n",
      "  Downloading GitPython-3.1.29-py3-none-any.whl (182 kB)\n",
      "\u001b[K     |████████████████████████████████| 182 kB 68.4 MB/s \n",
      "\u001b[?25hCollecting sentry-sdk>=1.0.0\n",
      "  Downloading sentry_sdk-1.9.10-py2.py3-none-any.whl (162 kB)\n",
      "\u001b[K     |████████████████████████████████| 162 kB 69.1 MB/s \n",
      "\u001b[?25hRequirement already satisfied: psutil>=5.0.0 in /usr/local/lib/python3.7/dist-packages (from wandb->-r requirements-dev.txt (line 11)) (5.4.8)\n",
      "Collecting gitdb<5,>=4.0.1\n",
      "  Downloading gitdb-4.0.9-py3-none-any.whl (63 kB)\n",
      "\u001b[K     |████████████████████████████████| 63 kB 1.6 MB/s \n",
      "\u001b[?25hCollecting smmap<6,>=3.0.1\n",
      "  Downloading smmap-5.0.0-py3-none-any.whl (24 kB)\n",
      "Collecting sentry-sdk>=1.0.0\n",
      "  Downloading sentry_sdk-1.9.9-py2.py3-none-any.whl (162 kB)\n",
      "\u001b[K     |████████████████████████████████| 162 kB 72.1 MB/s \n",
      "\u001b[?25h  Downloading sentry_sdk-1.9.8-py2.py3-none-any.whl (158 kB)\n",
      "\u001b[K     |████████████████████████████████| 158 kB 90.5 MB/s \n",
      "\u001b[?25h  Downloading sentry_sdk-1.9.7-py2.py3-none-any.whl (157 kB)\n",
      "\u001b[K     |████████████████████████████████| 157 kB 76.9 MB/s \n",
      "\u001b[?25h  Downloading sentry_sdk-1.9.6-py2.py3-none-any.whl (157 kB)\n",
      "\u001b[K     |████████████████████████████████| 157 kB 75.6 MB/s \n",
      "\u001b[?25h  Downloading sentry_sdk-1.9.5-py2.py3-none-any.whl (157 kB)\n",
      "\u001b[K     |████████████████████████████████| 157 kB 77.0 MB/s \n",
      "\u001b[?25h  Downloading sentry_sdk-1.9.4-py2.py3-none-any.whl (157 kB)\n",
      "\u001b[K     |████████████████████████████████| 157 kB 69.8 MB/s \n",
      "\u001b[?25h  Downloading sentry_sdk-1.9.3-py2.py3-none-any.whl (157 kB)\n",
      "\u001b[K     |████████████████████████████████| 157 kB 74.3 MB/s \n",
      "\u001b[?25h  Downloading sentry_sdk-1.9.2-py2.py3-none-any.whl (157 kB)\n",
      "\u001b[K     |████████████████████████████████| 157 kB 76.0 MB/s \n",
      "\u001b[?25h  Downloading sentry_sdk-1.9.1-py2.py3-none-any.whl (157 kB)\n",
      "\u001b[K     |████████████████████████████████| 157 kB 76.6 MB/s \n",
      "\u001b[?25h  Downloading sentry_sdk-1.9.0-py2.py3-none-any.whl (156 kB)\n",
      "\u001b[K     |████████████████████████████████| 156 kB 78.2 MB/s \n",
      "\u001b[?25hCollecting antlr4-python3-runtime==4.9.*\n",
      "  Downloading antlr4-python3-runtime-4.9.3.tar.gz (117 kB)\n",
      "\u001b[K     |████████████████████████████████| 117 kB 75.8 MB/s \n",
      "\u001b[?25hRequirement already satisfied: importlib-resources in /usr/local/lib/python3.7/dist-packages (from hydra-core->-r requirements-dev.txt (line 13)) (5.10.0)\n",
      "Collecting omegaconf~=2.2\n",
      "  Downloading omegaconf-2.2.3-py3-none-any.whl (79 kB)\n",
      "\u001b[K     |████████████████████████████████| 79 kB 7.4 MB/s \n",
      "\u001b[?25hRequirement already satisfied: pyparsing!=2.0.4,!=2.1.2,!=2.1.6,>=2.0.1 in /usr/local/lib/python3.7/dist-packages (from matplotlib->-r requirements-dev.txt (line 14)) (3.0.9)\n",
      "Requirement already satisfied: kiwisolver>=1.0.1 in /usr/local/lib/python3.7/dist-packages (from matplotlib->-r requirements-dev.txt (line 14)) (1.4.4)\n",
      "Requirement already satisfied: cycler>=0.10 in /usr/local/lib/python3.7/dist-packages (from matplotlib->-r requirements-dev.txt (line 14)) (0.11.0)\n",
      "Requirement already satisfied: tenacity>=6.2.0 in /usr/local/lib/python3.7/dist-packages (from plotly->-r requirements-dev.txt (line 16)) (8.1.0)\n",
      "Requirement already satisfied: text-unidecode>=1.3 in /usr/local/lib/python3.7/dist-packages (from python-slugify->kaggle->-r requirements-dev.txt (line 5)) (1.3)\n",
      "Building wheels for collected packages: antlr4-python3-runtime, pathtools\n",
      "  Building wheel for antlr4-python3-runtime (setup.py) ... \u001b[?25l\u001b[?25hdone\n",
      "  Created wheel for antlr4-python3-runtime: filename=antlr4_python3_runtime-4.9.3-py3-none-any.whl size=144575 sha256=8fa9f08d797966e97087f8b6e3d28c790b3001d1c6eb55fb1103ea546c3da619\n",
      "  Stored in directory: /root/.cache/pip/wheels/8b/8d/53/2af8772d9aec614e3fc65e53d4a993ad73c61daa8bbd85a873\n",
      "  Building wheel for pathtools (setup.py) ... \u001b[?25l\u001b[?25hdone\n",
      "  Created wheel for pathtools: filename=pathtools-0.1.2-py3-none-any.whl size=8806 sha256=e552a964cdba6ab48e75ae172030b7786a65fb70d5fcc72fd7bbfdfda5b1bb68\n",
      "  Stored in directory: /root/.cache/pip/wheels/3e/31/09/fa59cef12cdcfecc627b3d24273699f390e71828921b2cbba2\n",
      "Successfully built antlr4-python3-runtime pathtools\n",
      "Installing collected packages: smmap, gitdb, antlr4-python3-runtime, shortuuid, setproctitle, sentry-sdk, pathtools, omegaconf, GitPython, docker-pycreds, wandb, tensorflow-addons, split-folders, rocks, keras-cv, hydra-core\n",
      "  Running setup.py develop for rocks\n",
      "Successfully installed GitPython-3.1.29 antlr4-python3-runtime-4.9.3 docker-pycreds-0.4.0 gitdb-4.0.9 hydra-core-1.2.0 keras-cv-0.3.4 omegaconf-2.2.3 pathtools-0.1.2 rocks-0.0.1 sentry-sdk-1.9.0 setproctitle-1.3.2 shortuuid-1.0.9 smmap-5.0.0 split-folders-0.5.1 tensorflow-addons-0.18.0 wandb-0.13.4\n"
     ]
    }
   ],
   "source": [
    "!sh src/scripts/setup.sh"
   ]
  },
  {
   "cell_type": "code",
   "execution_count": null,
   "metadata": {
    "colab": {
     "base_uri": "https://localhost:8080/"
    },
    "id": "zP2_BecEFUT4",
    "outputId": "534ad2f7-7c64-400c-c8d4-85c4d20035b2"
   },
   "outputs": [
    {
     "name": "stdout",
     "output_type": "stream",
     "text": [
      "/content/Whats-this-rock\n"
     ]
    }
   ],
   "source": [
    "# %cd /content/Whats-this-rock/\n",
    "# import tensorflow as tf\n",
    "# print(tf.__version__)\n",
    "# try:\n",
    "#     assert tf.__version__ == '2.10.0'\n",
    "#     print(\"You can begin training now!\")\n",
    "# except AssertionError:\n",
    "#     print(\"Tensorflow version less than 2.10\\nRestart Runtime! Run from here and continue!\")\n",
    "#     print(\"Restarting Runtime!\")\n",
    "#     import os\n",
    "#     os.kill(os.getpid(), 9)"
   ]
  },
  {
   "cell_type": "code",
   "execution_count": null,
   "metadata": {
    "colab": {
     "base_uri": "https://localhost:8080/"
    },
    "id": "AKG91Awf_DVH",
    "outputId": "4e8c36b4-a18f-4765-82bd-15054907cab9"
   },
   "outputs": [
    {
     "name": "stdout",
     "output_type": "stream",
     "text": [
      "\u001b[34m\u001b[1mwandb\u001b[0m: (1) Create a W&B account\n",
      "\u001b[34m\u001b[1mwandb\u001b[0m: (2) Use an existing W&B account\n",
      "\u001b[34m\u001b[1mwandb\u001b[0m: (3) Don't visualize my results\n",
      "\u001b[34m\u001b[1mwandb\u001b[0m: Enter your choice: 3\n",
      "\u001b[34m\u001b[1mwandb\u001b[0m: You chose 'Don't visualize my results'\n",
      "\u001b[34m\u001b[1mwandb\u001b[0m: Tracking run with wandb version 0.13.4\n",
      "\u001b[34m\u001b[1mwandb\u001b[0m: W&B syncing is set to \u001b[1m`offline`\u001b[0m in this directory.  \n",
      "\u001b[34m\u001b[1mwandb\u001b[0m: Run \u001b[1m`wandb online`\u001b[0m or set \u001b[1mWANDB_MODE=online\u001b[0m to enable cloud syncing.\n",
      "\u001b[34m\u001b[1mwandb\u001b[0m: Adding directory to artifact (./src)... Done. 0.1s\n",
      "notes: ''\n",
      "seed: 42\n",
      "lr: 0.001\n",
      "lr_decay_steps: 300\n",
      "lr_schedule: cosine_decay_restarts\n",
      "epochs: 50\n",
      "class_weights: true\n",
      "optimizer: adam\n",
      "loss: categorical_crossentropy\n",
      "metrics:\n",
      "- accuracy\n",
      "batch_size: 32\n",
      "num_classes: 7\n",
      "custom_callback: false\n",
      "monitor: val_loss\n",
      "dataset_id:\n",
      "- 1\n",
      "- 2\n",
      "- 3\n",
      "- 4\n",
      "data_path: data/4_tfds_dataset/\n",
      "sampling: None\n",
      "train_split: 0.7\n",
      "image_size: 224\n",
      "image_channels: 3\n",
      "augmentation: kerascv\n",
      "backbone: resnet\n",
      "use_pretrained_weights: true\n",
      "preprocess: true\n",
      "dropout_rate: 0.3\n",
      "save_model: false\n",
      "trainable: false\n",
      "last_layers: 30\n",
      "wandb:\n",
      "  use: true\n",
      "  project: Whats-this-rockv17\n",
      "  mode: online\n",
      "earlystopping:\n",
      "  use: false\n",
      "  patience: 10\n",
      "reduce_lr:\n",
      "  use: false\n",
      "  factor: 0.6\n",
      "  min_lr: 1.0e-05\n",
      "  patience: 2\n",
      "\n",
      "\n",
      "Datasets used for Training:- [1, 2, 3, 4]\n",
      "rock-classification.zip: Skipping, found more recently modified local copy (use --force to force download)\n",
      "renamed 'data/1_extracted/Dataset' -> 'data/1_extracted/dataset1'\n",
      "igneous-metamorphic-sedimentary-rocks-and-minerals.zip: Skipping, found more recently modified local copy (use --force to force download)\n",
      "rocks-dataset.zip: Skipping, found more recently modified local copy (use --force to force download)\n",
      "\n",
      "Processing dataset2\n",
      "Moving marble: 100% 40/40 [00:00<00:00, 9976.94it/s]\n",
      "Moving quartzite: 100% 40/40 [00:00<00:00, 11051.46it/s]\n",
      "Moving Basalt: 100% 94/94 [00:00<00:00, 10422.83it/s]\n",
      "Moving granite: 100% 113/113 [00:00<00:00, 6077.22it/s]\n",
      "Moving Sandstone: 100% 45/45 [00:00<00:00, 8638.95it/s]\n",
      "Moving Limestone: 100% 114/114 [00:00<00:00, 7689.16it/s]\n",
      "Moving coal: 100% 100/100 [00:00<00:00, 11350.99it/s]\n",
      "\n",
      "Processing dataset4\n",
      "\n",
      "Processing dataset3\n",
      "Moving Marble: 100% 70/70 [00:00<00:00, 12454.45it/s]\n",
      "Moving Granite: 100% 45/45 [00:00<00:00, 10090.01it/s]\n",
      "Moving Basalt: 100% 39/39 [00:00<00:00, 11597.15it/s]\n",
      "Moving Sandstone: 100% 47/47 [00:00<00:00, 12086.59it/s]\n",
      "Moving Quartzite: 100% 64/64 [00:00<00:00, 11432.52it/s]\n",
      "Moving Limestone: 100% 57/57 [00:00<00:00, 11166.53it/s]\n",
      "Moving Marble: 100% 19/19 [00:00<00:00, 10284.14it/s]\n",
      "Moving Granite: 100% 20/20 [00:00<00:00, 10196.44it/s]\n",
      "Moving Basalt: 100% 13/13 [00:00<00:00, 9666.01it/s]\n",
      "Moving Sandstone: 100% 19/19 [00:00<00:00, 9618.80it/s]\n",
      "Moving Quartzite: 100% 17/17 [00:00<00:00, 9436.63it/s]\n",
      "Moving Limestone: 100% 23/23 [00:00<00:00, 10840.43it/s]\n",
      "\n",
      "Processing dataset1\n",
      "Moving Marble: 100% 387/387 [00:00<00:00, 8639.58it/s]\n",
      "Moving Quartzite: 100% 477/477 [00:00<00:00, 10774.96it/s]\n",
      "Moving Sandstone: 100% 325/325 [00:00<00:00, 4005.86it/s]\n",
      "Moving Limestone: 100% 338/338 [00:00<00:00, 4111.65it/s]\n",
      "Moving Coal: 100% 369/369 [00:00<00:00, 4453.30it/s]\n",
      "Moving Granite: 100% 101/101 [00:00<00:00, 2128.84it/s]\n",
      "Moving Basalt: 100% 86/86 [00:00<00:00, 3153.14it/s]\n",
      "\n",
      "Files other than jpg and png.\n",
      "\n",
      "\n",
      "data/2_processed:\n",
      "Basalt\n",
      "Coal\n",
      "Granite\n",
      "Limestone\n",
      "Marble\n",
      "Quartzite\n",
      "Sandstone\n",
      "\n",
      "data/2_processed/Basalt:\n",
      "\n",
      "data/2_processed/Coal:\n",
      "Coal_106.jpeg\n",
      "Coal_114.jpeg\n",
      "Coal_116.jpeg\n",
      "Coal_134.jpeg\n",
      "Coal_144.jpeg\n",
      "Coal_159.jpeg\n",
      "Coal_184.jpeg\n",
      "Coal_203.jpeg\n",
      "Coal_204.jpeg\n",
      "Coal_209.jpeg\n",
      "Coal_273.jpeg\n",
      "Coal_274.jpeg\n",
      "Coal_282.jpeg\n",
      "Coal_294.jpeg\n",
      "Coal_325.jpeg\n",
      "Coal_367.jpeg\n",
      "Coal_376.jpeg\n",
      "Coal_397.jpeg\n",
      "Coal_429.jpeg\n",
      "Coal_447.jpeg\n",
      "Coal_469.jpeg\n",
      "\n",
      "data/2_processed/Granite:\n",
      "Granite_183.JPEG\n",
      "Granite_184.JPEG\n",
      "Granite_185.JPEG\n",
      "Granite_188.JPEG\n",
      "Granite_195.JPEG\n",
      "Granite_196.jpeg\n",
      "Granite_214.JPEG\n",
      "Granite_216.JPEG\n",
      "Granite_226.JPEG\n",
      "Granite_227.JPEG\n",
      "Granite_229.JPEG\n",
      "Granite_238.JPEG\n",
      "Granite_241.JPEG\n",
      "Granite_242.JPEG\n",
      "Granite_244.JPEG\n",
      "Granite_249.JPEG\n",
      "Granite_252.JPEG\n",
      "Granite_260.JPEG\n",
      "Granite_270.jpeg\n",
      "Granite_271.JPEG\n",
      "Granite_277.JPEG\n",
      "Granite_279.JPEG\n",
      "\n",
      "data/2_processed/Limestone:\n",
      "Limestone_206.jpeg\n",
      "Limestone_250.webp\n",
      "Limestone_269.jfif\n",
      "Limestone_300.webp\n",
      "Limestone_308.jfif\n",
      "Limestone_321.jfif\n",
      "Limestone_368.jpeg\n",
      "Limestone_378.jfif\n",
      "Limestone_385.jpeg\n",
      "Limestone_413.jpeg\n",
      "Limestone_515.jfif\n",
      "Limestone_526.jpeg\n",
      "\n",
      "data/2_processed/Marble:\n",
      "Marble_154.jfif\n",
      "Marble_239.jfif\n",
      "Marble_253.webp\n",
      "Marble_461.webp\n",
      "\n",
      "data/2_processed/Quartzite:\n",
      "Quartzite_161.webp\n",
      "\n",
      "data/2_processed/Sandstone:\n",
      "Sandstone_124.webp\n",
      "Sandstone_364.webp\n",
      "\n",
      "\n",
      "File types before cleaning:\n",
      "jpg     2983\n",
      "jpeg      28\n",
      "JPEG      20\n",
      "png       17\n",
      "webp       7\n",
      "jfif       7\n",
      "Name: file_name, dtype: int64\n",
      "\n",
      "\n",
      "Removing unsupported images...\n",
      "Total images before deletion = 3062\n",
      "Removed 15 unsupported files.\n",
      "\n",
      "\n",
      "Removing corrupted images...\n",
      "processing class directory  Marble\n",
      "processing class directory  Granite\n",
      "libpng warning: iCCP: known incorrect sRGB profile\n",
      "libpng warning: iCCP: known incorrect sRGB profile\n",
      "libpng warning: iCCP: known incorrect sRGB profile\n",
      "processing class directory  Basalt\n",
      "processing class directory  Sandstone\n",
      "processing class directory  Quartzite\n",
      "processing class directory  Limestone\n",
      "processing class directory  Coal\n",
      "file  data/2_processed/Coal/Coal_63.jpg  is not a valid image file\n",
      "file  data/2_processed/Coal/Coal_264.jpg  is not a valid image file\n",
      "removed 46 bad images.\n",
      "\n",
      "Function 'remove_corrupted_images' executed in 13.5616s\n",
      "\n",
      "File types after cleaning:\n",
      "jpg     2959\n",
      "jpeg      25\n",
      "png       16\n",
      "JPEG       2\n",
      "Name: file_name, dtype: int64\n",
      "<class 'pandas.core.frame.DataFrame'>\n",
      "RangeIndex: 3002 entries, 0 to 3001\n",
      "Data columns (total 3 columns):\n",
      " #   Column     Non-Null Count  Dtype \n",
      "---  ------     --------------  ----- \n",
      " 0   file_name  3002 non-null   object\n",
      " 1   class      3002 non-null   object\n",
      " 2   file_path  3002 non-null   object\n",
      "dtypes: object(3)\n",
      "memory usage: 70.5+ KB\n",
      "\n",
      " None \n",
      "\n",
      "Quartzite    596\n",
      "Limestone    521\n",
      "Marble       512\n",
      "Coal         461\n",
      "Sandstone    433\n",
      "Granite      256\n",
      "Basalt       223\n",
      "Name: class, dtype: int64\n",
      "\n",
      "Splitting files in Train, Validation and Test and saving to data/4_tfds_dataset/\n",
      "Data Split:- Training 0.7, Validation 0.15000000000000002, Test 0.15000000000000002\n",
      "No Sampling.\n",
      "Copying files: 3002 files [00:00, 5347.78 files/s]\n",
      "\n",
      "\n",
      "\n",
      "Found 2099 files belonging to 7 classes.\n",
      "Found 447 files belonging to 7 classes.\n",
      "Found 456 files belonging to 7 classes.\n",
      "Model: \"sequential\"\n",
      "_________________________________________________________________\n",
      " Layer (type)                Output Shape              Param #   \n",
      "=================================================================\n",
      " resnet50 (Functional)       (None, 7, 7, 2048)        23587712  \n",
      "                                                                 \n",
      " global_average_pooling2d (G  (None, 2048)             0         \n",
      " lobalAveragePooling2D)                                          \n",
      "                                                                 \n",
      " dense (Dense)               (None, 1024)              2098176   \n",
      "                                                                 \n",
      " dropout (Dropout)           (None, 1024)              0         \n",
      "                                                                 \n",
      " dense_1 (Dense)             (None, 256)               262400    \n",
      "                                                                 \n",
      " dropout_1 (Dropout)         (None, 256)               0         \n",
      "                                                                 \n",
      " dense_2 (Dense)             (None, 64)                16448     \n",
      "                                                                 \n",
      " dropout_2 (Dropout)         (None, 64)                0         \n",
      "                                                                 \n",
      " dense_3 (Dense)             (None, 7)                 455       \n",
      "                                                                 \n",
      "=================================================================\n",
      "Total params: 25,965,191\n",
      "Trainable params: 2,377,479\n",
      "Non-trainable params: 23,587,712\n",
      "_________________________________________________________________\n",
      "\n",
      "Model loaded: resnet.\n",
      "\n",
      "\n",
      "Epoch 1/50\n",
      "65/66 [============================>.] - ETA: 0s - loss: 1.7666 - accuracy: 0.3449 - f1_score: 0.2178{'loss': 1.760553240776062, 'accuracy': 0.3468318283557892, 'f1_score': 0.21990631520748138, 'val_loss': 1.2533141374588013, 'val_accuracy': 0.5391498804092407, 'val_f1_score': 0.29013845324516296}\n",
      "66/66 [==============================] - 39s 98ms/step - loss: 1.7606 - accuracy: 0.3468 - f1_score: 0.2199 - val_loss: 1.2533 - val_accuracy: 0.5391 - val_f1_score: 0.2901\n",
      "Epoch 2/50\n",
      "65/66 [============================>.] - ETA: 0s - loss: 1.2884 - accuracy: 0.5099 - f1_score: 0.3912{'loss': 1.288527488708496, 'accuracy': 0.5116721987724304, 'f1_score': 0.39164823293685913, 'val_loss': 1.1089708805084229, 'val_accuracy': 0.6398210525512695, 'val_f1_score': 0.45092493295669556}\n",
      "66/66 [==============================] - 3s 52ms/step - loss: 1.2885 - accuracy: 0.5117 - f1_score: 0.3916 - val_loss: 1.1090 - val_accuracy: 0.6398 - val_f1_score: 0.4509\n",
      "Epoch 3/50\n",
      "65/66 [============================>.] - ETA: 0s - loss: 1.0649 - accuracy: 0.6043 - f1_score: 0.5130{'loss': 1.0626256465911865, 'accuracy': 0.606479287147522, 'f1_score': 0.5138571858406067, 'val_loss': 0.9809876084327698, 'val_accuracy': 0.6756151914596558, 'val_f1_score': 0.5663022398948669}\n",
      "66/66 [==============================] - 3s 51ms/step - loss: 1.0626 - accuracy: 0.6065 - f1_score: 0.5139 - val_loss: 0.9810 - val_accuracy: 0.6756 - val_f1_score: 0.5663\n",
      "Epoch 4/50\n",
      "66/66 [==============================] - ETA: 0s - loss: 0.9025 - accuracy: 0.6656 - f1_score: 0.5900{'loss': 0.9025112390518188, 'accuracy': 0.6655550003051758, 'f1_score': 0.5900112986564636, 'val_loss': 0.9671529531478882, 'val_accuracy': 0.6689038276672363, 'val_f1_score': 0.5936865210533142}\n",
      "66/66 [==============================] - 4s 54ms/step - loss: 0.9025 - accuracy: 0.6656 - f1_score: 0.5900 - val_loss: 0.9672 - val_accuracy: 0.6689 - val_f1_score: 0.5937\n",
      "Epoch 5/50\n",
      "65/66 [============================>.] - ETA: 0s - loss: 0.8875 - accuracy: 0.6826 - f1_score: 0.6060{'loss': 0.8874706029891968, 'accuracy': 0.6808003783226013, 'f1_score': 0.6055585145950317, 'val_loss': 1.0169281959533691, 'val_accuracy': 0.6554809808731079, 'val_f1_score': 0.55207759141922}\n",
      "66/66 [==============================] - 3s 52ms/step - loss: 0.8875 - accuracy: 0.6808 - f1_score: 0.6056 - val_loss: 1.0169 - val_accuracy: 0.6555 - val_f1_score: 0.5521\n",
      "Epoch 6/50\n",
      "66/66 [==============================] - ETA: 0s - loss: 0.9789 - accuracy: 0.6465 - f1_score: 0.5854{'loss': 0.9788801670074463, 'accuracy': 0.6464983224868774, 'f1_score': 0.5854042768478394, 'val_loss': 1.0690585374832153, 'val_accuracy': 0.6398210525512695, 'val_f1_score': 0.5715008974075317}\n",
      "66/66 [==============================] - 3s 52ms/step - loss: 0.9789 - accuracy: 0.6465 - f1_score: 0.5854 - val_loss: 1.0691 - val_accuracy: 0.6398 - val_f1_score: 0.5715\n",
      "Epoch 7/50\n",
      "65/66 [============================>.] - ETA: 0s - loss: 0.8502 - accuracy: 0.6947 - f1_score: 0.6388{'loss': 0.8482680320739746, 'accuracy': 0.6955693364143372, 'f1_score': 0.6388576626777649, 'val_loss': 1.0386321544647217, 'val_accuracy': 0.6577181220054626, 'val_f1_score': 0.6372187733650208}\n",
      "66/66 [==============================] - 3s 51ms/step - loss: 0.8483 - accuracy: 0.6956 - f1_score: 0.6389 - val_loss: 1.0386 - val_accuracy: 0.6577 - val_f1_score: 0.6372\n",
      "Epoch 8/50\n",
      "65/66 [============================>.] - ETA: 0s - loss: 0.7172 - accuracy: 0.7475 - f1_score: 0.7056{'loss': 0.7143780589103699, 'accuracy': 0.7484516501426697, 'f1_score': 0.7071298956871033, 'val_loss': 1.0667798519134521, 'val_accuracy': 0.68232661485672, 'val_f1_score': 0.6337403059005737}\n",
      "66/66 [==============================] - 3s 52ms/step - loss: 0.7144 - accuracy: 0.7485 - f1_score: 0.7071 - val_loss: 1.0668 - val_accuracy: 0.6823 - val_f1_score: 0.6337\n",
      "Epoch 9/50\n",
      "65/66 [============================>.] - ETA: 0s - loss: 0.5923 - accuracy: 0.7944 - f1_score: 0.7726{'loss': 0.5909473299980164, 'accuracy': 0.7941877245903015, 'f1_score': 0.7724984288215637, 'val_loss': 1.0646181106567383, 'val_accuracy': 0.6778523325920105, 'val_f1_score': 0.6434115171432495}\n",
      "66/66 [==============================] - 3s 52ms/step - loss: 0.5909 - accuracy: 0.7942 - f1_score: 0.7725 - val_loss: 1.0646 - val_accuracy: 0.6779 - val_f1_score: 0.6434\n",
      "Epoch 10/50\n",
      "65/66 [============================>.] - ETA: 0s - loss: 0.4372 - accuracy: 0.8379 - f1_score: 0.8225{'loss': 0.4384472072124481, 'accuracy': 0.8380181193351746, 'f1_score': 0.8226036429405212, 'val_loss': 1.1389439105987549, 'val_accuracy': 0.6711409687995911, 'val_f1_score': 0.6566082835197449}\n",
      "66/66 [==============================] - 3s 52ms/step - loss: 0.4384 - accuracy: 0.8380 - f1_score: 0.8226 - val_loss: 1.1389 - val_accuracy: 0.6711 - val_f1_score: 0.6566\n",
      "Epoch 11/50\n",
      "65/66 [============================>.] - ETA: 0s - loss: 0.3760 - accuracy: 0.8650 - f1_score: 0.8544{'loss': 0.37266814708709717, 'accuracy': 0.8661267161369324, 'f1_score': 0.8553702235221863, 'val_loss': 1.1436573266983032, 'val_accuracy': 0.6935123205184937, 'val_f1_score': 0.6876761317253113}\n",
      "66/66 [==============================] - 3s 52ms/step - loss: 0.3727 - accuracy: 0.8661 - f1_score: 0.8554 - val_loss: 1.1437 - val_accuracy: 0.6935 - val_f1_score: 0.6877\n",
      "Epoch 12/50\n",
      "66/66 [==============================] - ETA: 0s - loss: 0.2913 - accuracy: 0.8995 - f1_score: 0.8938{'loss': 0.29125314950942993, 'accuracy': 0.8994759321212769, 'f1_score': 0.8937549591064453, 'val_loss': 1.1585549116134644, 'val_accuracy': 0.6935123205184937, 'val_f1_score': 0.6914156079292297}\n",
      "66/66 [==============================] - 3s 53ms/step - loss: 0.2913 - accuracy: 0.8995 - f1_score: 0.8938 - val_loss: 1.1586 - val_accuracy: 0.6935 - val_f1_score: 0.6914\n",
      "Epoch 13/50\n",
      "65/66 [============================>.] - ETA: 0s - loss: 0.2882 - accuracy: 0.9037 - f1_score: 0.8935{'loss': 0.28658589720726013, 'accuracy': 0.9042401313781738, 'f1_score': 0.8938745260238647, 'val_loss': 1.1615599393844604, 'val_accuracy': 0.6890380382537842, 'val_f1_score': 0.6862969398498535}\n",
      "66/66 [==============================] - 3s 53ms/step - loss: 0.2866 - accuracy: 0.9042 - f1_score: 0.8939 - val_loss: 1.1616 - val_accuracy: 0.6890 - val_f1_score: 0.6863\n",
      "Epoch 14/50\n",
      "65/66 [============================>.] - ETA: 0s - loss: 0.3019 - accuracy: 0.9023 - f1_score: 0.8873{'loss': 0.30144912004470825, 'accuracy': 0.9018580317497253, 'f1_score': 0.8865742087364197, 'val_loss': 1.231302261352539, 'val_accuracy': 0.6912751793861389, 'val_f1_score': 0.6863346099853516}\n",
      "66/66 [==============================] - 3s 53ms/step - loss: 0.3014 - accuracy: 0.9019 - f1_score: 0.8866 - val_loss: 1.2313 - val_accuracy: 0.6913 - val_f1_score: 0.6863\n",
      "Epoch 15/50\n",
      "66/66 [==============================] - ETA: 0s - loss: 0.5048 - accuracy: 0.8256 - f1_score: 0.8135{'loss': 0.5048308372497559, 'accuracy': 0.8256312608718872, 'f1_score': 0.8135005235671997, 'val_loss': 1.3261663913726807, 'val_accuracy': 0.6711409687995911, 'val_f1_score': 0.6298104524612427}\n",
      "66/66 [==============================] - 3s 53ms/step - loss: 0.5048 - accuracy: 0.8256 - f1_score: 0.8135 - val_loss: 1.3262 - val_accuracy: 0.6711 - val_f1_score: 0.6298\n",
      "^C\n"
     ]
    }
   ],
   "source": [
    "!python src/models/train.py wandb.project=Whats-this-rockv17 \\\n",
    "                            wandb.mode=online \\\n",
    "                            dataset_id=[1,2,3,4] \\\n",
    "                            epochs=150 \\\n",
    "                            augmentation=kerascv \\\n",
    "                            monitor=val_loss \\\n",
    "                            loss=categorical_crossentropy \\\n",
    "                            backbone=resnet \\\n",
    "                            lr_schedule=cosine_decay_restarts \\\n",
    "                            lr_decay_steps=300 \\\n",
    "                            trainable=False \\\n",
    "                            custom_callback=False \\\n",
    "                            # 'notes=\"CosineDecayRestarts with custom callback\"'"
   ]
  },
  {
   "cell_type": "code",
   "execution_count": null,
   "metadata": {
    "id": "KIbRmgJ62ADB"
   },
   "outputs": [],
   "source": [
    "# !python src/evaluate.py"
   ]
  },
  {
   "cell_type": "markdown",
   "metadata": {
    "id": "TSbRchpaqiOK"
   },
   "source": [
    "# Deploy Telegram Bot\n",
    "Uploading secrets with telegram key"
   ]
  },
  {
   "cell_type": "code",
   "execution_count": null,
   "metadata": {
    "colab": {
     "base_uri": "https://localhost:8080/"
    },
    "id": "ErKXBgT1qh52",
    "outputId": "a01c0a01-e04a-42c5-a0eb-5d2c3c28e3f3"
   },
   "outputs": [
    {
     "name": "stdout",
     "output_type": "stream",
     "text": [
      "Enter Telegram API Key: ··········\n"
     ]
    }
   ],
   "source": [
    "import os\n",
    "\n",
    "from getpass import getpass\n",
    "telegram_token = getpass('Enter Telegram API Key: ')\n",
    "os.environ['TOKEN'] = telegram_token"
   ]
  },
  {
   "cell_type": "code",
   "execution_count": null,
   "metadata": {
    "id": "-VRJGfW_qlNl"
   },
   "outputs": [],
   "source": [
    "%%bash\n",
    "pip install -r requirements.txt --quiet"
   ]
  },
  {
   "cell_type": "code",
   "execution_count": null,
   "metadata": {
    "id": "Dr9ecN6Ig1UF"
   },
   "outputs": [],
   "source": [
    "!python src/bot.py"
   ]
  }
 ],
 "metadata": {
  "accelerator": "GPU",
  "colab": {
   "collapsed_sections": [],
   "provenance": []
  },
  "gpuClass": "standard",
  "kernelspec": {
   "display_name": "Python 3 (ipykernel)",
   "language": "python",
   "name": "python3"
  },
  "language_info": {
   "codemirror_mode": {
    "name": "ipython",
    "version": 3
   },
   "file_extension": ".py",
   "mimetype": "text/x-python",
   "name": "python",
   "nbconvert_exporter": "python",
   "pygments_lexer": "ipython3",
   "version": "3.9.12"
  }
 },
 "nbformat": 4,
 "nbformat_minor": 4
}
