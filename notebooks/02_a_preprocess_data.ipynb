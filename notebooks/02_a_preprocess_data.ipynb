{
 "cells": [
  {
   "cell_type": "code",
   "execution_count": null,
   "id": "fa59c3af-98e7-4308-890b-f8dac2c2356f",
   "metadata": {},
   "outputs": [],
   "source": [
    "# | default_exp data.preprocess"
   ]
  },
  {
   "cell_type": "code",
   "execution_count": null,
   "id": "d733757d-a2a1-4891-a36a-3c3d02046d4d",
   "metadata": {},
   "outputs": [],
   "source": [
    "# | hide\n",
    "# | eval: false\n",
    "\n",
    "%reload_ext autoreload\n",
    "%autoreload 2\n",
    "%matplotlib inline"
   ]
  },
  {
   "cell_type": "code",
   "execution_count": null,
   "id": "b46118d4-945c-4b77-af2c-6f1ba9bdb877",
   "metadata": {},
   "outputs": [],
   "source": [
    "# | hide\n",
    "\n",
    "import os"
   ]
  },
  {
   "cell_type": "code",
   "execution_count": null,
   "id": "5356ba44",
   "metadata": {},
   "outputs": [],
   "source": [
    "# | hide\n",
    "# DONT RUN THIS CELL IN JUPYTER\n",
    "\n",
    "os.chdir(\"../\")\n",
    "\n",
    "assert all([dir in os.listdir() for dir in [\"rocks_classifier\", \"data\"]])  # \"data\""
   ]
  },
  {
   "cell_type": "code",
   "execution_count": null,
   "id": "ba546b18-3829-4719-8349-68d92c1ba7ca",
   "metadata": {},
   "outputs": [],
   "source": [
    "# | hide\n",
    "\n",
    "from nbdev.showdoc import *"
   ]
  },
  {
   "cell_type": "code",
   "execution_count": null,
   "id": "7f5ae593-38ea-48f1-be38-bd245dd815ec",
   "metadata": {},
   "outputs": [],
   "source": [
    "# | export\n",
    "# | hide\n",
    "\n",
    "import os\n",
    "import requests\n",
    "import subprocess\n",
    "import logging\n",
    "import hydra, omegaconf\n",
    "\n",
    "from rocks_classifier.data.utils import *"
   ]
  },
  {
   "cell_type": "code",
   "execution_count": null,
   "id": "f4400075",
   "metadata": {},
   "outputs": [],
   "source": [
    "# | hide\n",
    "\n",
    "path = \"configs/config.yaml\"\n",
    "cfg = omegaconf.OmegaConf.load(path)"
   ]
  },
  {
   "cell_type": "markdown",
   "id": "342cf7d1",
   "metadata": {},
   "source": [
    "<a href=\"https://colab.research.google.com/github/udaylunawat/Whats-this-rock/blob/main/notebooks/02_a_preprocess.ipynb\" target=\"_parent\"><img src=\"https://colab.research.google.com/assets/colab-badge.svg\" alt=\"Open In Colab\"/></a>\n",
    "<!--- @wandbcode{intro-colab} -->"
   ]
  },
  {
   "cell_type": "markdown",
   "id": "129b8ac8-89eb-45c1-a996-3b3350fb50ad",
   "metadata": {},
   "source": [
    "# Preprocess Data\n",
    "> Move images from both datasets to respective class labels, remove duplicates, bad and corrupted images."
   ]
  },
  {
   "cell_type": "code",
   "execution_count": null,
   "id": "9f40ca05",
   "metadata": {},
   "outputs": [],
   "source": [
    "# | export\n",
    "\n",
    "_doc_ = \"\"\"Preprocess the extracted dataset, to be ready to trained.\n",
    "\n",
    "Performs the following:-\n",
    "1. Rename and move files to data/2_processed.\n",
    "2. List files other than jpg and png, to remove unsupported files.\n",
    "3. List file by types before cleaning.\n",
    "4. Remove\n",
    "    - Bad Images\n",
    "    - Duplicate Images\n",
    "    - Misclassified Images\n",
    "    - Unsupported Images\n",
    "    - Corrupted Images\n",
    "5. List file by types after cleaning.\n",
    "6. Get count of files by class types.\n",
    "7. Handle Imbalance using Undersampling, Oversampling.\n",
    "\"\"\""
   ]
  },
  {
   "cell_type": "markdown",
   "id": "aa428264-11ff-4eda-bc5c-7ce26fadf0f0",
   "metadata": {},
   "source": [
    "# Steps\n",
    "\n",
    "> This is the description & steps of the `preprocess_data` function which combines the following functions"
   ]
  },
  {
   "cell_type": "markdown",
   "id": "f018718f-7426-451d-8d92-d4f184637853",
   "metadata": {},
   "source": [
    "1. Rename and move files to data/2_processed.\n",
    "2. List files other than jpg and png, to remove unsupported files.\n",
    "3. List file by types before cleaning.\n",
    "4. Remove\n",
    "    - Bad Images\n",
    "    - Duplicate Images\n",
    "    - Misclassified Images\n",
    "    - Unsupported Images\n",
    "    - Corrupted Images\n",
    "5. List file by types after cleaning.\n",
    "6. Get count of files by class types.\n",
    "7. Handle Imbalance using Undersampling, Oversampling."
   ]
  },
  {
   "cell_type": "code",
   "execution_count": null,
   "id": "689b5431-655e-4b19-86cb-bd8ba80942dc",
   "metadata": {},
   "outputs": [
    {
     "name": "stdout",
     "output_type": "stream",
     "text": [
      "Variable                     Type        Data/Info\n",
      "--------------------------------------------------\n",
      "BasicHtmlRenderer            type        <class 'nbdev.showdoc.BasicHtmlRenderer'>\n",
      "BasicMarkdownRenderer        type        <class 'nbdev.showdoc.BasicMarkdownRenderer'>\n",
      "DocmentTbl                   type        <class 'nbdev.showdoc.DocmentTbl'>\n",
      "ShowDocRenderer              type        <class 'nbdev.showdoc.ShowDocRenderer'>\n",
      "clean_data_dir               function    <function clean_data_dir>\n",
      "clean_images                 function    <function clean_images>\n",
      "colab_link                   function    <function colab_link>\n",
      "copy_configs_tocwd           function    <function copy_configs_tocwd>\n",
      "doc                          function    <function doc>\n",
      "download_and_move_datasets   function    <function download_and_mo<...>_datasets>\n",
      "find_filepaths               function    <function find_filepaths>\n",
      "get_df                       function    <function get_df>\n",
      "get_new_name                 function    <function get_new_name>\n",
      "get_preprocess               function    <function get_preprocess>\n",
      "get_tfds_from_dir            function    <function get_tfds_from_dir>\n",
      "get_value_counts             function    <function get_value_counts>\n",
      "hydra                        module      <module 'hydra' from '/Us<...>kages/hydra/__init__.py'>\n",
      "logging                      module      <module 'logging' from '/<...>3.9/logging/__init__.py'>\n",
      "move_and_rename              function    <function move_and_rename>\n",
      "move_bad_files               function    <function move_bad_files>\n",
      "move_files                   function    <function move_files>\n",
      "move_to_processed            function    <function move_to_processed>\n",
      "omegaconf                    module      <module 'omegaconf' from <...>s/omegaconf/__init__.py'>\n",
      "os                           module      <module 'os' from '/Users<...>cks/lib/python3.9/os.py'>\n",
      "prepare                      function    <function prepare>\n",
      "remove_corrupted_images      function    <function timer_func.<loc<...>wrap_func>\n",
      "remove_unsupported_images    function    <function remove_unsuppor<...>ed_images>\n",
      "rename_files                 function    <function rename_files>\n",
      "requests                     module      <module 'requests' from '<...>es/requests/__init__.py'>\n",
      "sampling                     function    <function sampling>\n",
      "show_doc                     function    <function show_doc>\n",
      "showdoc_nm                   function    <function showdoc_nm>\n",
      "subprocess                   module      <module 'subprocess' from<...>python3.9/subprocess.py'>\n",
      "sys                          module      <module 'sys' (built-in)>\n",
      "timer_func                   function    <function timer_func>\n"
     ]
    }
   ],
   "source": [
    "# | hide\n",
    "\n",
    "%whos"
   ]
  },
  {
   "cell_type": "markdown",
   "id": "955785b8-f65c-4996-ad99-24c1108679d4",
   "metadata": {},
   "source": [
    "## 1. Rename and move files to data/2_processed."
   ]
  },
  {
   "cell_type": "code",
   "execution_count": null,
   "id": "6f57bed4-67c5-4ca4-bf39-09afc5521352",
   "metadata": {},
   "outputs": [
    {
     "data": {
      "text/markdown": [
       "---\n",
       "\n",
       "[source](https://github.com/udaylunawat/Whats-this-rock/blob/main/rocks_classifier/data/utils.py#LNone){target=\"_blank\" style=\"float:right; font-size:smaller\"}\n",
       "\n",
       "### move_to_processed\n",
       "\n",
       ">      move_to_processed ()\n",
       "\n",
       "Combines files with same subclass and moves them to the subclass under data/2_processed.\n",
       "\n",
       "Uses `get_new_name` to create new names of files and then rename them and copy to data/2_processed."
      ],
      "text/plain": [
       "---\n",
       "\n",
       "[source](https://github.com/udaylunawat/Whats-this-rock/blob/main/rocks_classifier/data/utils.py#LNone){target=\"_blank\" style=\"float:right; font-size:smaller\"}\n",
       "\n",
       "### move_to_processed\n",
       "\n",
       ">      move_to_processed ()\n",
       "\n",
       "Combines files with same subclass and moves them to the subclass under data/2_processed.\n",
       "\n",
       "Uses `get_new_name` to create new names of files and then rename them and copy to data/2_processed."
      ]
     },
     "execution_count": null,
     "metadata": {},
     "output_type": "execute_result"
    }
   ],
   "source": [
    "show_doc(move_to_processed)"
   ]
  },
  {
   "cell_type": "code",
   "execution_count": null,
   "id": "68eb133d-f38e-40d7-a10b-f68c17feb34c",
   "metadata": {},
   "outputs": [
    {
     "name": "stdout",
     "output_type": "stream",
     "text": [
      "Moving files from dataset1/Basalt and dataset2/Basalt to data/2_processed/Basalt ...\n",
      "Moving files from dataset1/Coal and dataset2/Coal to data/2_processed/Coal ...\n",
      "Moving files from dataset1/Granite and dataset2/Granite to data/2_processed/Granite ...\n",
      "Moving files from dataset1/Limestone and dataset2/Limestone to data/2_processed/Limestone ...\n",
      "Moving files from dataset1/Marble and dataset2/Marble to data/2_processed/Marble ...\n",
      "Moving files from dataset1/Quartzite and dataset2/Quartzite to data/2_processed/Quartzite ...\n",
      "Moving files from dataset1/Sandstone and dataset2/Sandstone to data/2_processed/Sandstone ...\n"
     ]
    }
   ],
   "source": [
    "# | echo: false\n",
    "# | eval: false\n",
    "\n",
    "move_to_processed()"
   ]
  },
  {
   "cell_type": "markdown",
   "id": "b78d1a49-7700-4075-b659-4c672a65d90a",
   "metadata": {},
   "source": [
    "## 2. List files other than jpg and png, to remove unsupported files."
   ]
  },
  {
   "cell_type": "code",
   "execution_count": null,
   "id": "8ff85d62-027c-4980-b6b8-e0f749b35660",
   "metadata": {},
   "outputs": [
    {
     "name": "stdout",
     "output_type": "stream",
     "text": [
      "\n",
      "Files other than jpg and png.\n",
      "\n",
      "data/2_processed/Coal/dataset1_Coal_025_12.jpeg\n",
      "data/2_processed/Coal/dataset1_Coal_070_162.jpeg\n",
      "data/2_processed/Coal/dataset1_Coal_071_163.jpeg\n",
      "data/2_processed/Coal/dataset1_Coal_072_164.jpeg\n",
      "data/2_processed/Coal/dataset1_Coal_073_165.jpeg\n",
      "data/2_processed/Coal/dataset1_Coal_074_166.jpeg\n",
      "data/2_processed/Coal/dataset1_Coal_075_167.jpeg\n",
      "data/2_processed/Coal/dataset1_Coal_076_168.jpeg\n",
      "data/2_processed/Coal/dataset1_Coal_077_169.jpeg\n",
      "data/2_processed/Coal/dataset1_Coal_079_170.jpeg\n",
      "data/2_processed/Coal/dataset1_Coal_080_171.jpeg\n",
      "data/2_processed/Coal/dataset1_Coal_081_172.jpeg\n",
      "data/2_processed/Coal/dataset1_Coal_082_173.jpeg\n",
      "data/2_processed/Coal/dataset1_Coal_083_174.jpeg\n",
      "data/2_processed/Coal/dataset1_Coal_084_175.jpeg\n",
      "data/2_processed/Coal/dataset1_Coal_085_176.jpeg\n",
      "data/2_processed/Coal/dataset1_Coal_086_177.jpeg\n",
      "data/2_processed/Coal/dataset1_Coal_087_178.jpeg\n",
      "data/2_processed/Coal/dataset1_Coal_088_179.jpeg\n",
      "data/2_processed/Coal/dataset1_Coal_090_180.jpeg\n",
      "data/2_processed/Coal/dataset1_Coal_091_181.jpeg\n",
      "data/2_processed/Granite/dataset1_Granite_017_23.jpeg\n",
      "data/2_processed/Granite/dataset1_Granite_021_27.jpeg\n",
      "data/2_processed/Granite/dataset1_Granite_029_34.JPEG\n",
      "data/2_processed/Granite/dataset1_Granite_031_36.JPEG\n",
      "data/2_processed/Granite/dataset1_Granite_036_40.JPEG\n",
      "data/2_processed/Granite/dataset1_Granite_062_64.JPEG\n",
      "data/2_processed/Granite/dataset1_Granite_072_73.JPEG\n",
      "data/2_processed/Granite/dataset1_Granite_073_74.JPEG\n",
      "data/2_processed/Granite/dataset1_Granite_074_75.JPEG\n",
      "data/2_processed/Granite/dataset1_Granite_075_76.JPEG\n",
      "data/2_processed/Granite/dataset1_Granite_076_77.JPEG\n",
      "data/2_processed/Granite/dataset1_Granite_077_78.JPEG\n",
      "data/2_processed/Granite/dataset1_Granite_078_79.JPEG\n",
      "data/2_processed/Granite/dataset1_Granite_080_80.JPEG\n",
      "data/2_processed/Granite/dataset1_Granite_081_81.JPEG\n",
      "data/2_processed/Granite/dataset1_Granite_082_82.JPEG\n",
      "data/2_processed/Granite/dataset1_Granite_083_83.JPEG\n",
      "data/2_processed/Granite/dataset1_Granite_084_84.JPEG\n",
      "data/2_processed/Granite/dataset1_Granite_085_85.JPEG\n",
      "data/2_processed/Granite/dataset1_Granite_086_86.JPEG\n",
      "data/2_processed/Granite/dataset1_Granite_092_91.JPEG\n",
      "data/2_processed/Granite/dataset1_Granite_099_98.JPEG\n",
      "data/2_processed/Limestone/dataset1_Limestone_004_100.jpeg\n",
      "data/2_processed/Limestone/dataset1_Limestone_005_101.webp\n",
      "data/2_processed/Limestone/dataset1_Limestone_006_102.jfif\n",
      "data/2_processed/Limestone/dataset1_Limestone_007_103.jfif\n",
      "data/2_processed/Limestone/dataset1_Limestone_008_104.jfif\n",
      "data/2_processed/Limestone/dataset1_Limestone_125_21.jpeg\n",
      "data/2_processed/Limestone/dataset1_Limestone_156_238.jpeg\n",
      "data/2_processed/Limestone/dataset1_Limestone_203_280.jpeg\n",
      "data/2_processed/Limestone/dataset1_Limestone_215_291.jfif\n",
      "data/2_processed/Limestone/dataset1_Limestone_224_3.webp\n",
      "data/2_processed/Limestone/dataset1_Limestone_271_38.jfif\n",
      "data/2_processed/Limestone/dataset1_Limestone_306_7.jpeg\n",
      "data/2_processed/Marble/dataset1_Marble_277_Marmo_z17.jfif\n",
      "data/2_processed/Marble/dataset1_Marble_282_images.jfif\n",
      "data/2_processed/Marble/dataset1_Marble_380_mineral-stone-marble-nonfoliated-metamorphic-260nw-349915676.webp\n",
      "data/2_processed/Marble/dataset1_Marble_387_u3tqorgn31mp65iypkwy_7e2e86ad-6a3f-410e-9584-caa5b075ccd7_825x700.webp\n",
      "data/2_processed/Quartzite/dataset1_Quartzite_471_quartzite-crystal-mineral-sample-studio-shot-with-black-background-972333846-5c7e6525c9e77c0001d19dda.webp\n",
      "data/2_processed/Sandstone/dataset1_Sandstone_058_15.webp\n",
      "data/2_processed/Sandstone/dataset1_Sandstone_248_320.webp\n"
     ]
    }
   ],
   "source": [
    "# | eval: false\n",
    "# | echo: true\n",
    "# | code-fold: true\n",
    "# | output-location: slide\n",
    "\n",
    "print(\"\\nFiles other than jpg and png.\\n\")\n",
    "files, _ = find_filepaths(\"data/2_processed/\")\n",
    "print(\n",
    "    \"\\n\".join(\n",
    "        list(filter(lambda x: not x.endswith(\"jpg\") and not x.endswith(\"png\"), files))\n",
    "    )\n",
    ")"
   ]
  },
  {
   "cell_type": "markdown",
   "id": "b71f8e87-3d23-4a07-b0ea-1c0273dcfe55",
   "metadata": {},
   "source": [
    "## 3. List file by types before cleaning.\n"
   ]
  },
  {
   "cell_type": "code",
   "execution_count": null,
   "id": "6f1506fa-42bf-4fe5-902a-8f03d49d2397",
   "metadata": {},
   "outputs": [
    {
     "name": "stdout",
     "output_type": "stream",
     "text": [
      "\n",
      "File types before cleaning:\n",
      ".jpg     2550\n",
      ".jpeg      28\n",
      ".JPEG      20\n",
      ".png       17\n",
      ".jfif       7\n",
      ".webp       7\n",
      "Name: file_type, dtype: int64\n"
     ]
    }
   ],
   "source": [
    "# | eval: false\n",
    "# | echo: false\n",
    "\n",
    "print(\"\\nFile types before cleaning:\")\n",
    "get_value_counts(\"data/2_processed\")"
   ]
  },
  {
   "cell_type": "markdown",
   "id": "b3eb9c2f-1e7b-44fb-802d-a38022a894ef",
   "metadata": {},
   "source": [
    "## 4. Remove\n",
    "    - Bad Images\n",
    "    - Duplicate Images\n",
    "    - Misclassified Images\n",
    "    - Unsupported Images\n",
    "    - Corrupted Images\n"
   ]
  },
  {
   "cell_type": "code",
   "execution_count": null,
   "id": "925897d5-36a2-4a74-bc14-62bee7701b59",
   "metadata": {},
   "outputs": [
    {
     "data": {
      "text/markdown": [
       "---\n",
       "\n",
       "[source](https://github.com/udaylunawat/Whats-this-rock/blob/main/rocks_classifier/data/utils.py#LNone){target=\"_blank\" style=\"float:right; font-size:smaller\"}\n",
       "\n",
       "### clean_images\n",
       "\n",
       ">      clean_images (cfg)\n",
       "\n",
       "Removes bad, misclassified, duplicate, corrupted and unsupported images.\n",
       "\n",
       "|    | **Type** | **Details** |\n",
       "| -- | -------- | ----------- |\n",
       "| cfg | cfg (omegaconf.DictConfig) | Hydra Configuration |"
      ],
      "text/plain": [
       "---\n",
       "\n",
       "[source](https://github.com/udaylunawat/Whats-this-rock/blob/main/rocks_classifier/data/utils.py#LNone){target=\"_blank\" style=\"float:right; font-size:smaller\"}\n",
       "\n",
       "### clean_images\n",
       "\n",
       ">      clean_images (cfg)\n",
       "\n",
       "Removes bad, misclassified, duplicate, corrupted and unsupported images.\n",
       "\n",
       "|    | **Type** | **Details** |\n",
       "| -- | -------- | ----------- |\n",
       "| cfg | cfg (omegaconf.DictConfig) | Hydra Configuration |"
      ]
     },
     "execution_count": null,
     "metadata": {},
     "output_type": "execute_result"
    }
   ],
   "source": [
    "show_doc(clean_images)"
   ]
  },
  {
   "cell_type": "code",
   "execution_count": null,
   "id": "e3f2878e-8a24-45d3-bb02-a31507ae1c25",
   "metadata": {},
   "outputs": [],
   "source": [
    "# | eval: false\n",
    "# | echo: false\n",
    "\n",
    "clean_images(cfg)"
   ]
  },
  {
   "cell_type": "markdown",
   "id": "6846a71b-d417-42da-addb-52bbd9c7985d",
   "metadata": {},
   "source": [
    "## 5. List file by types after cleaning.\n"
   ]
  },
  {
   "cell_type": "code",
   "execution_count": null,
   "id": "3356d777-346a-4ad5-a406-ee42d06ac848",
   "metadata": {},
   "outputs": [
    {
     "name": "stdout",
     "output_type": "stream",
     "text": [
      "\n",
      "File types after cleaning:\n",
      ".jpg     2550\n",
      ".jpeg      28\n",
      ".JPEG      20\n",
      ".png       17\n",
      ".jfif       7\n",
      ".webp       7\n",
      "Name: file_type, dtype: int64\n"
     ]
    }
   ],
   "source": [
    "# | eval: false\n",
    "# | echo: false\n",
    "\n",
    "print(\"\\nFile types after cleaning:\")\n",
    "get_value_counts(\"data/2_processed\")"
   ]
  },
  {
   "cell_type": "markdown",
   "id": "fbcaa64b-7ef6-4077-87bd-fa5c152ca94a",
   "metadata": {},
   "source": [
    "## 6. Get count of files by class types.\n"
   ]
  },
  {
   "cell_type": "code",
   "execution_count": null,
   "id": "e59c4480-b62f-47fb-917f-96c73ee8d268",
   "metadata": {},
   "outputs": [
    {
     "name": "stdout",
     "output_type": "stream",
     "text": [
      "\n",
      "Counts of classes:\n",
      "\n",
      "Quartzite    517\n",
      "Coal         469\n",
      "Limestone    452\n",
      "Marble       427\n",
      "Sandstone    370\n",
      "Granite      214\n",
      "Basalt       180\n",
      "Name: class, dtype: int64\n"
     ]
    }
   ],
   "source": [
    "# | eval: false\n",
    "# | echo: false\n",
    "\n",
    "print(\"\\nCounts of classes:\\n\")\n",
    "get_value_counts(\"data/2_processed\", column=\"class\")"
   ]
  },
  {
   "cell_type": "markdown",
   "id": "bcc9caf0-a954-4d91-a370-4c6b0a26e6f9",
   "metadata": {},
   "source": [
    "## 7. Handle Imbalance"
   ]
  },
  {
   "cell_type": "markdown",
   "id": "fc714326-3092-4a6f-94a1-3f2729f40c00",
   "metadata": {},
   "source": [
    "Using Undersampling, Oversampling and No Sampling."
   ]
  },
  {
   "cell_type": "code",
   "execution_count": null,
   "id": "054797ca-31cb-42a7-9d34-54d10543f421",
   "metadata": {},
   "outputs": [
    {
     "data": {
      "text/markdown": [
       "---\n",
       "\n",
       "[source](https://github.com/udaylunawat/Whats-this-rock/blob/main/rocks_classifier/data/utils.py#LNone){target=\"_blank\" style=\"float:right; font-size:smaller\"}\n",
       "\n",
       "### sampling\n",
       "\n",
       ">      sampling (cfg)\n",
       "\n",
       "Oversamples/Undersample/No Sampling data into train, val, test.\n",
       "\n",
       "|    | **Type** | **Details** |\n",
       "| -- | -------- | ----------- |\n",
       "| cfg | cfg (omegaconf.DictConfig) | Hydra Configuration |"
      ],
      "text/plain": [
       "---\n",
       "\n",
       "[source](https://github.com/udaylunawat/Whats-this-rock/blob/main/rocks_classifier/data/utils.py#LNone){target=\"_blank\" style=\"float:right; font-size:smaller\"}\n",
       "\n",
       "### sampling\n",
       "\n",
       ">      sampling (cfg)\n",
       "\n",
       "Oversamples/Undersample/No Sampling data into train, val, test.\n",
       "\n",
       "|    | **Type** | **Details** |\n",
       "| -- | -------- | ----------- |\n",
       "| cfg | cfg (omegaconf.DictConfig) | Hydra Configuration |"
      ]
     },
     "execution_count": null,
     "metadata": {},
     "output_type": "execute_result"
    }
   ],
   "source": [
    "show_doc(sampling)"
   ]
  },
  {
   "cell_type": "code",
   "execution_count": null,
   "id": "a633fe89-06eb-4843-bec5-c2ae7c19222b",
   "metadata": {},
   "outputs": [],
   "source": [
    "# | eval: false\n",
    "# | echo: false\n",
    "\n",
    "sampling(cfg)"
   ]
  },
  {
   "cell_type": "markdown",
   "id": "1b19497c-5b82-4e29-92c6-2dde0e17d996",
   "metadata": {},
   "source": [
    "## Putting it all together"
   ]
  },
  {
   "cell_type": "markdown",
   "id": "57b32bfe-ee04-40de-bece-497924833098",
   "metadata": {},
   "source": [
    "`process_data` wraps all the above functions."
   ]
  },
  {
   "cell_type": "code",
   "execution_count": null,
   "id": "9fa92c3b-03e6-4c91-884e-6a2294fffcc1",
   "metadata": {},
   "outputs": [],
   "source": [
    "# | export\n",
    "\n",
    "\n",
    "@hydra.main(config_path=\".\", config_name=\"config\", version_base=\"1.2\")\n",
    "def process_data(cfg):\n",
    "    \"\"\"Removes unsupported and corrupted images, and splits data into train, val and test.\n",
    "\n",
    "    Steps -> `download_and_move_datasets` -> `move_to_processed` -> 'find_filepaths' -> `clean_images` -> `sampling`\n",
    "\n",
    "    Parameters\n",
    "    ----------\n",
    "    cfg : cfg (omegaconf.DictConfig):\n",
    "        Hydra Configuration\n",
    "    \"\"\"\n",
    "    move_to_processed()\n",
    "\n",
    "    print(\"\\n\\nFiles other than jpg and png.\\n\")\n",
    "    files, _ = find_filepaths(\"data/2_processed/\")\n",
    "    print(\n",
    "        \"\\n\".join(\n",
    "            list(\n",
    "                filter(lambda x: not x.endswith(\"jpg\") and not x.endswith(\"png\"), files)\n",
    "            )\n",
    "        )\n",
    "    )\n",
    "\n",
    "    print(\"\\nFile types before cleaning:\")\n",
    "    get_value_counts(\"data/2_processed\")\n",
    "\n",
    "    clean_images(cfg)\n",
    "\n",
    "    print(\"\\nFile types after cleaning:\")\n",
    "    get_value_counts(\"data/2_processed\")\n",
    "\n",
    "    print(\"\\nCounts of classes:\\n\")\n",
    "    get_value_counts(\"data/2_processed\", column=\"class\")\n",
    "\n",
    "    sampling(cfg)"
   ]
  },
  {
   "cell_type": "code",
   "execution_count": null,
   "id": "06b9a37c",
   "metadata": {},
   "outputs": [],
   "source": [
    "# | hide\n",
    "# | eval: true\n",
    "\n",
    "process_data(cfg)"
   ]
  },
  {
   "cell_type": "code",
   "execution_count": null,
   "id": "b1c4d919-cadd-4522-98a1-58607b3c2502",
   "metadata": {},
   "outputs": [
    {
     "data": {
      "text/markdown": [
       "---\n",
       "\n",
       "[source](https://github.com/udaylunawat/Whats-this-rock/blob/main/rocks_classifier/data/preprocess.py#L18){target=\"_blank\" style=\"float:right; font-size:smaller\"}\n",
       "\n",
       "### process_data\n",
       "\n",
       ">      process_data (cfg)\n",
       "\n",
       "Download dataset, removes unsupported and corrupted images, and splits data into train, val and test.\n",
       "Steps -> `download_and_move_datasets` -> `move_to_processed` -> 'find_filepaths' -> `clean_images` -> `sampling`\n",
       "\n",
       "|    | **Type** | **Details** |\n",
       "| -- | -------- | ----------- |\n",
       "| cfg | cfg (omegaconf.DictConfig): | Hydra Configuration |"
      ],
      "text/plain": [
       "---\n",
       "\n",
       "[source](https://github.com/udaylunawat/Whats-this-rock/blob/main/rocks_classifier/data/preprocess.py#L18){target=\"_blank\" style=\"float:right; font-size:smaller\"}\n",
       "\n",
       "### process_data\n",
       "\n",
       ">      process_data (cfg)\n",
       "\n",
       "Download dataset, removes unsupported and corrupted images, and splits data into train, val and test.\n",
       "Steps -> `download_and_move_datasets` -> `move_to_processed` -> 'find_filepaths' -> `clean_images` -> `sampling`\n",
       "\n",
       "|    | **Type** | **Details** |\n",
       "| -- | -------- | ----------- |\n",
       "| cfg | cfg (omegaconf.DictConfig): | Hydra Configuration |"
      ]
     },
     "execution_count": null,
     "metadata": {},
     "output_type": "execute_result"
    }
   ],
   "source": [
    "show_doc(process_data)"
   ]
  },
  {
   "cell_type": "code",
   "execution_count": null,
   "id": "f98de636-e154-45ee-9bab-5c10c9d86caa",
   "metadata": {},
   "outputs": [],
   "source": [
    "# | hide\n",
    "from nbdev import nbdev_export\n",
    "\n",
    "nbdev_export()"
   ]
  }
 ],
 "metadata": {
  "kernelspec": {
   "display_name": "Python 3.9.15 ('rocks')",
   "language": "python",
   "name": "python3"
  }
 },
 "nbformat": 4,
 "nbformat_minor": 5
}
